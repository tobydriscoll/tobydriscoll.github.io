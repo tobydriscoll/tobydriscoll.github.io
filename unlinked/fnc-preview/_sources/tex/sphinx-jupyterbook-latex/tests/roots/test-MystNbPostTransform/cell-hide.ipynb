{
 "cells": [
  {
   "cell_type": "markdown",
   "id": "advised-transmission",
   "metadata": {},
   "source": [
    "# Hide-Cell\n",
    "\n",
    "Code Cells with tags in it:"
   ]
  },
  {
   "cell_type": "code",
   "execution_count": 1,
   "id": "forward-transmission",
   "metadata": {
    "tags": [
     "hide-cell"
    ]
   },
   "outputs": [
    {
     "name": "stdout",
     "output_type": "stream",
     "text": [
      "Here is some code to execute\n"
     ]
    }
   ],
   "source": [
    "print(\"Here is some code to execute\")"
   ]
  }
 ],
 "metadata": {
  "jupytext": {
   "text_representation": {
    "extension": ".md",
    "format_name": "myst"
   }
  },
  "kernelspec": {
   "display_name": "Python 3",
   "name": "python3"
  },
  "language_info": {
   "codemirror_mode": {
    "name": "ipython",
    "version": 3
   },
   "file_extension": ".py",
   "mimetype": "text/x-python",
   "name": "python",
   "nbconvert_exporter": "python",
   "pygments_lexer": "ipython3",
   "version": "3.9.6"
  },
  "source_map": [
   9,
   14
  ]
 },
 "nbformat": 4,
 "nbformat_minor": 5
}