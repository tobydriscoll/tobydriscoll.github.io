{
 "cells": [
  {
   "cell_type": "markdown",
   "id": "powered-flight",
   "metadata": {},
   "source": [
    "# Hide-Input\n",
    "\n",
    "Below is a cell with hide-input tag:"
   ]
  },
  {
   "cell_type": "code",
   "execution_count": 1,
   "id": "universal-brook",
   "metadata": {
    "tags": [
     "hide-input"
    ]
   },
   "outputs": [
    {
     "name": "stdout",
     "output_type": "stream",
     "text": [
      "Here is some code to execute\n"
     ]
    }
   ],
   "source": [
    "print(\"Here is some code to execute\")"
   ]
  }
 ],
 "metadata": {
  "jupytext": {
   "text_representation": {
    "extension": ".md",
    "format_name": "myst"
   }
  },
  "kernelspec": {
   "display_name": "Python 3",
   "name": "python3"
  },
  "language_info": {
   "codemirror_mode": {
    "name": "ipython",
    "version": 3
   },
   "file_extension": ".py",
   "mimetype": "text/x-python",
   "name": "python",
   "nbconvert_exporter": "python",
   "pygments_lexer": "ipython3",
   "version": "3.9.6"
  },
  "source_map": [
   9,
   14
  ]
 },
 "nbformat": 4,
 "nbformat_minor": 5
}