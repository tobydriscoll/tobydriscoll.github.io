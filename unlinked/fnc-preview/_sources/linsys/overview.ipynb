{
 "cells": [
  {
   "cell_type": "markdown",
   "id": "incorrect-hours",
   "metadata": {},
   "source": [
    "# Linear systems of equations\n",
    "\n",
    "```{index} Han Solo, Star Wars: A New Hope\n",
    "```\n",
    "\n",
    "```{epigraph}\n",
    "It's all a lot of simple tricks and nonsense.\n",
    "\n",
    "— Han Solo, *Star Wars: A New Hope*\n",
    "```\n",
    "\n",
    "One of the most frequently encountered tasks in scientific computation is the solution of the linear system of equations $\\mathbf{A} \\mathbf{x}=\\mathbf{b}$ for a given square matrix $\\mathbf{A}$ and vector $\\mathbf{b}$.  This problem can be solved in a finite number of steps, using an algorithm equivalent to Gaussian elimination. Describing the algorithm is mostly an exercise in organizing some linear algebra.\n",
    "\n",
    "Analyzing the algorithm requires new tools. Because the computations will take place in floating point, we must first discuss a system for measuring the \"size\" of a perturbation to a vector or matrix data. Once that is understood, we find that the conditioning of the square linear system problem is quite straightforward to describe. Finally, we will see that the algorithm may change when certain things are known about the matrix $\\mathbf{A}$."
   ]
  }
 ],
 "metadata": {
  "jupytext": {
   "cell_metadata_filter": "-all",
   "formats": "md:myst",
   "text_representation": {
    "extension": ".md",
    "format_name": "myst",
    "format_version": 0.13,
    "jupytext_version": "1.10.3"
   }
  },
  "kernelspec": {
   "display_name": "Julia 1.6.1",
   "language": "julia",
   "name": "julia-fast"
  },
  "language_info": {
   "file_extension": ".jl",
   "mimetype": "application/julia",
   "name": "julia",
   "version": "1.6.1"
  },
  "source_map": [
   14
  ]
 },
 "nbformat": 4,
 "nbformat_minor": 5
}