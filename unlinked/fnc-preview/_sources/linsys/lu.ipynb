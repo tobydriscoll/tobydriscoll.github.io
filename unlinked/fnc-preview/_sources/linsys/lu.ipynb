{
 "cells": [
  {
   "cell_type": "code",
   "execution_count": 1,
   "id": "micro-contrary",
   "metadata": {
    "tags": [
     "remove-cell"
    ]
   },
   "outputs": [],
   "source": [
    "include(\"../init-notebook.jl\")"
   ]
  },
  {
   "cell_type": "markdown",
   "id": "conscious-coast",
   "metadata": {},
   "source": [
    "(section-linsys-lu)=\n",
    "# LU factorization\n",
    "\n",
    "A major tool in numerical linear algebra is to factor a given matrix into terms that are individually easier to deal with than the original. In this section we derive a means to express a square matrix using triangular factors, which will allow us to solve a linear system using forward and backward substitution.\n",
    "\n",
    "## Outer products\n",
    "\n",
    "```{index} outer product\n",
    "```\n",
    "\n",
    "Our derivation of the factorization hinges on an expression of matrix products in terms of vector outer products. If  $\\mathbf{u}\\in\\real^m$ and $\\mathbf{v}\\in\\real^n$, then the **outer product** of these vectors is the $m\\times n$ matrix\n",
    "\n",
    ":::{math}\n",
    ":label: outerproduct\n",
    "\\mathbf{u} \\mathbf{v}^T =\n",
    "\\begin{bmatrix}\n",
    "u_1 v_1 & u_1 v_2 & \\cdots & u_1 v_n \\\\u_2 v_1 & u_2 v_2 & \\cdots & u_2 v_n \\\\ \\vdots & \\vdots & & \\vdots \\\\ u_m v_1 & u_m v_2 & \\cdots & u_m v_n\n",
    "\\end{bmatrix}\n",
    ":::\n",
    "\n",
    "We illustrate the connection of outer products to matrix multiplication by a small example.\n",
    "\n",
    "(example-lu-outer)=\n",
    "::::{proof:example}\n",
    "According to the usual definition of matrix multiplication,\n",
    "\n",
    "$$\n",
    "\t\\small\n",
    "\t\\begin{bmatrix}\n",
    "\t\t4 & -1  \\\\ -3 & 5 \\\\ -2 &  6\t  \n",
    "\t\\end{bmatrix}\n",
    "\t\\begin{bmatrix}\n",
    "\t\t2 & -7 \\\\ -3 & 5 \t  \n",
    "\t\\end{bmatrix}\n",
    "\t& = \n",
    "\t\\small\n",
    "\t\\begin{bmatrix}\n",
    "\t\t(4)(2) + (-1)(-3)  &  (4)(-7) + (-1)(5)   \\\\ \n",
    "\t\t(-3)(2) + (5)(-3)  &  (-3)(-7) + (5)(5)  \\\\ \n",
    "\t\t(-2)(2) + (6)(-3)  &  (-2)(-7) + (6)(5)  \n",
    "\t\\end{bmatrix}.  \n",
    "  $$\n",
    "\n",
    "If we break this up into the sum of two matrices, however, each is an outer product.\n",
    "\n",
    "$$\n",
    "\t& = \n",
    "\t\\small\n",
    "\t\\begin{bmatrix}\n",
    "\t\t(4)(2)   &  (4)(-7)    \\\\ \n",
    "\t\t(-3)(2)   &  (-3)(-7)    \\\\ \n",
    "\t\t(-2)(2) &  (-2)(-7) \n",
    "\t\\end{bmatrix} + \n",
    "\t\\begin{bmatrix}\n",
    "\t\t(-1)(-3)  &  (-1)(5)  \\\\ \n",
    "\t\t(5)(-3)  &  (5)(5)  \\\\ \n",
    "\t\t(6)(-3)  &  (6)(5) \n",
    "\t\\end{bmatrix}\\\\[2mm]\n",
    "\t& = \n",
    "\t\\small\n",
    "\t\\begin{bmatrix}\n",
    "\t\t4 \\\\ -3 \\\\ -2 \n",
    "\t\\end{bmatrix} \n",
    "\t\\begin{bmatrix}\n",
    "\t\t2 & -7 \n",
    "\t\\end{bmatrix} \\: + \\:\n",
    "\t\\begin{bmatrix}\n",
    "\t\t-1 \\\\ 5 \\\\ 6 \n",
    "\t\\end{bmatrix} \n",
    "\t\\begin{bmatrix}\n",
    "\t\t-3 & 5 \n",
    "\t\\end{bmatrix}.\n",
    "$$\n",
    "\n",
    "Note that the vectors here are columns of the left-hand matrix and rows of the right-hand matrix. The matrix product is defined only if there are equal numbers of these.\n",
    "::::\n",
    "\n",
    "It is not hard to derive the following generalization of {numref}`Example {number} <example-lu-outer>` to all matrix products. \n",
    "\n",
    "::::{proof:theorem} Matrix multiplication by outer products\n",
    "Write the columns of $\\mathbf{A}$ as $\\mathbf{a}_1,\\dots,\\mathbf{a}_n$ and the rows of $\\mathbf{B}$ as $\\mathbf{b}_1^T,\\dots,\\mathbf{b}_n^T$. Then\n",
    "\n",
    "```{math}\n",
    ":label: matrixouter\n",
    "\\mathbf{A}\\mathbf{B} = \\sum_{k=1}^n \\mathbf{a}_k \\mathbf{b}_k^T.\n",
    "```\n",
    "::::\n",
    "\n",
    "## Triangular product\n",
    "\n",
    "Equation {eq}`matrixouter` has some interesting structure for the product $\\mathbf{L}\\mathbf{U}$, where $\\mathbf{L}$ is **lower triangular** (i. e., zero above the main diagonal) and $\\mathbf{U}$ is **upper triangular** (zero below the diagonal). \n",
    "\n",
    "(demo-lu-outertri)=\n",
    "::::{proof:demo}\n",
    "::::\n",
    "\n",
    "```{raw} html\n",
    "<div class='demo'>\n",
    "```\n",
    "\n",
    "```{raw} latex\n",
    "%%start demo%%\n",
    "```\n",
    "\n",
    "We explore the outer product formula for two random triangular matrices."
   ]
  },
  {
   "cell_type": "code",
   "execution_count": 2,
   "id": "suitable-cosmetic",
   "metadata": {},
   "outputs": [
    {
     "data": {
      "text/plain": [
       "3×3 Matrix{Int64}:\n",
       " 4  0  0\n",
       " 5  7  0\n",
       " 1  4  1"
      ]
     },
     "execution_count": 2,
     "metadata": {},
     "output_type": "execute_result"
    }
   ],
   "source": [
    "L = tril( rand(1:9,3,3) )"
   ]
  },
  {
   "cell_type": "code",
   "execution_count": 3,
   "id": "trying-leonard",
   "metadata": {},
   "outputs": [
    {
     "data": {
      "text/plain": [
       "3×3 Matrix{Int64}:\n",
       " 5  2  7\n",
       " 0  8  2\n",
       " 0  0  5"
      ]
     },
     "execution_count": 3,
     "metadata": {},
     "output_type": "execute_result"
    }
   ],
   "source": [
    "U = triu( rand(1:9,3,3) )"
   ]
  },
  {
   "cell_type": "markdown",
   "id": "dated-special",
   "metadata": {},
   "source": [
    ":::{panels}\n",
    ":column: col-7 left-side\n",
    ":card: border-0 shadow-none\n",
    "Here are the three outer products in the sum in {eq}`matrixouter`:\n",
    "\n",
    "---\n",
    ":column: col-5 right-side\n",
    ":card: shadow-none comment\n",
    "Although `U[1,:]` is a row of `U`, it is a vector, and as such has a default column interpretation on its own.\n",
    ":::"
   ]
  },
  {
   "cell_type": "code",
   "execution_count": 4,
   "id": "superior-knock",
   "metadata": {},
   "outputs": [
    {
     "data": {
      "text/plain": [
       "3×3 Matrix{Int64}:\n",
       " 20   8  28\n",
       " 25  10  35\n",
       "  5   2   7"
      ]
     },
     "execution_count": 4,
     "metadata": {},
     "output_type": "execute_result"
    }
   ],
   "source": [
    "L[:,1]*U[1,:]'"
   ]
  },
  {
   "cell_type": "code",
   "execution_count": 5,
   "id": "blind-window",
   "metadata": {},
   "outputs": [
    {
     "data": {
      "text/plain": [
       "3×3 Matrix{Int64}:\n",
       " 0   0   0\n",
       " 0  56  14\n",
       " 0  32   8"
      ]
     },
     "execution_count": 5,
     "metadata": {},
     "output_type": "execute_result"
    }
   ],
   "source": [
    "L[:,2]*U[2,:]'"
   ]
  },
  {
   "cell_type": "code",
   "execution_count": 6,
   "id": "generic-tomato",
   "metadata": {},
   "outputs": [
    {
     "data": {
      "text/plain": [
       "3×3 Matrix{Int64}:\n",
       " 0  0  0\n",
       " 0  0  0\n",
       " 0  0  5"
      ]
     },
     "execution_count": 6,
     "metadata": {},
     "output_type": "execute_result"
    }
   ],
   "source": [
    "L[:,3]*U[3,:]'"
   ]
  },
  {
   "cell_type": "markdown",
   "id": "dominican-intelligence",
   "metadata": {},
   "source": [
    "Simply because of the triangular zero structures, only the first outer product contributes to the first row and first column of the entire product. \n",
    "\n",
    "```{raw} html\n",
    "</div>\n",
    "```\n",
    "\n",
    "```{raw} latex\n",
    "%%end demo%%\n",
    "```\n",
    "\n",
    "Let the columns of $\\mathbf{L}$ be written as $\\boldsymbol{\\ell}_k$ and the rows of $\\mathbf{U}$ be written as $\\mathbf{u}_k^T$. Then the first row of $\\mathbf{L}\\mathbf{U}$ is\n",
    " \n",
    "```{math}\n",
    ":label: outer-row1\n",
    "\\mathbf{e}_1^T \\sum_{k=1}^m  \\boldsymbol{ℓ}_k \\mathbf{u}_k^T = \\sum_{k=1}^m (\\mathbf{e}_1^T \\boldsymbol{\\ell}_k) \\mathbf{u}_k^T = L_{11} \\mathbf{u}_1^T.\n",
    "```\n",
    "\n",
    "Likewise, the first column of $\\mathbf{L}\\mathbf{U}$ is\n",
    "\n",
    "```{math}\n",
    ":label: outer-col1\n",
    "\\left( \\sum_{k=1}^m \\mathbf{ℓ}_k \\mathbf{u}_k^T\\right) \\mathbf{e}_1 = \\sum_{k=1}^m \\mathbf{\\ell}_k (\\mathbf{u}_k^T \\mathbf{e}_1) = U_{11}\\boldsymbol{\\ell}_1.\n",
    "```\n",
    "\n",
    "These two calculations are enough to derive one of the most important algorithms in scientific computing.\n",
    "\n",
    "## Triangular factorization\n",
    "\n",
    "```{index} ! unit lower triangular matrix\n",
    "```\n",
    "\n",
    "Our goal is to factor a given $n\\times n$ matrix $\\mathbf{A}$ as the triangular product $\\mathbf{A}=\\mathbf{L}\\mathbf{U}$. It turns out that we have $n^2+n$ total nonzero unknowns in the two triangular matrices, so we set $L_{11}=\\cdots = L_{nn}=1$, making $\\mathbf{L}$ a **unit lower triangular** matrix.\n",
    "\n",
    "(demo-lu-derive)=\n",
    ":::{proof:demo}\n",
    ":::\n",
    "\n",
    "```{raw} html\n",
    "<div class='demo'>\n",
    "```\n",
    "\n",
    "```{raw} latex\n",
    "%%start demo%%\n",
    "```\n",
    "\n",
    "For illustration, we work on a $4 \\times 4$ matrix. We name it with a subscript in preparation for what comes."
   ]
  },
  {
   "cell_type": "code",
   "execution_count": 7,
   "id": "polyphonic-browser",
   "metadata": {},
   "outputs": [],
   "source": [
    "A₁ = [\n",
    "     2    0    4     3 \n",
    "    -4    5   -7   -10 \n",
    "     1   15    2   -4.5\n",
    "    -2    0    2   -13\n",
    "    ];\n",
    "L = diagm(ones(4))\n",
    "U = zeros(4,4);"
   ]
  },
  {
   "cell_type": "markdown",
   "id": "compact-character",
   "metadata": {},
   "source": [
    "Now we appeal to {eq}`outer-row1`. Since $L_{11}=1$, we see that the first row of $\\mathbf{U}$ is just the first row of $\\mathbf{A}_1$."
   ]
  },
  {
   "cell_type": "code",
   "execution_count": 8,
   "id": "bronze-friendly",
   "metadata": {},
   "outputs": [
    {
     "data": {
      "text/plain": [
       "4×4 Matrix{Float64}:\n",
       " 2.0  0.0  4.0  3.0\n",
       " 0.0  0.0  0.0  0.0\n",
       " 0.0  0.0  0.0  0.0\n",
       " 0.0  0.0  0.0  0.0"
      ]
     },
     "execution_count": 8,
     "metadata": {},
     "output_type": "execute_result"
    }
   ],
   "source": [
    "U[1,:] = A₁[1,:]\n",
    "U"
   ]
  },
  {
   "cell_type": "markdown",
   "id": "caroline-approach",
   "metadata": {},
   "source": [
    "From {eq}`outer-col1`, we see that we can find the first column of $\\mathbf{L}$ from the first column of $\\mathbf{A}_1$."
   ]
  },
  {
   "cell_type": "code",
   "execution_count": 9,
   "id": "animated-quest",
   "metadata": {},
   "outputs": [
    {
     "data": {
      "text/plain": [
       "4×4 Matrix{Float64}:\n",
       "  1.0  0.0  0.0  0.0\n",
       " -2.0  1.0  0.0  0.0\n",
       "  0.5  0.0  1.0  0.0\n",
       " -1.0  0.0  0.0  1.0"
      ]
     },
     "execution_count": 9,
     "metadata": {},
     "output_type": "execute_result"
    }
   ],
   "source": [
    "L[:,1] = A₁[:,1]/U[1,1]\n",
    "L"
   ]
  },
  {
   "cell_type": "markdown",
   "id": "suited-pulse",
   "metadata": {},
   "source": [
    " We have obtained the first term in the sum {eq}`matrixouter` for $\\mathbf{L}\\mathbf{U}$, and we subtract it away from $\\mathbf{A}_1$."
   ]
  },
  {
   "cell_type": "code",
   "execution_count": 10,
   "id": "essential-toyota",
   "metadata": {},
   "outputs": [
    {
     "data": {
      "text/plain": [
       "4×4 Matrix{Float64}:\n",
       " 0.0   0.0  0.0    0.0\n",
       " 0.0   5.0  1.0   -4.0\n",
       " 0.0  15.0  0.0   -6.0\n",
       " 0.0   0.0  6.0  -10.0"
      ]
     },
     "execution_count": 10,
     "metadata": {},
     "output_type": "execute_result"
    }
   ],
   "source": [
    "A₂ = A₁ - L[:,1]*U[1,:]'"
   ]
  },
  {
   "cell_type": "markdown",
   "id": "graphic-jungle",
   "metadata": {},
   "source": [
    "Now $\\mathbf{A}_2 = \\boldsymbol{\\ell}_2\\mathbf{u}_2^T + \\boldsymbol{\\ell}_3\\mathbf{u}_3^T + \\boldsymbol{\\ell}_4\\mathbf{u}_4^T.$ If we ignore the first row and first column of the matrices in this equation, then in what remains we are in the same situation as at the start. Specifically, only $\\boldsymbol{\\ell}_2\\mathbf{u}_2^T$ has any effect on the second row and column, so we can deduce them now."
   ]
  },
  {
   "cell_type": "code",
   "execution_count": 11,
   "id": "resistant-front",
   "metadata": {},
   "outputs": [
    {
     "data": {
      "text/plain": [
       "4×4 Matrix{Float64}:\n",
       "  1.0  0.0  0.0  0.0\n",
       " -2.0  1.0  0.0  0.0\n",
       "  0.5  3.0  1.0  0.0\n",
       " -1.0  0.0  0.0  1.0"
      ]
     },
     "execution_count": 11,
     "metadata": {},
     "output_type": "execute_result"
    }
   ],
   "source": [
    "U[2,:] = A₂[2,:]\n",
    "L[:,2] = A₂[:,2]/U[2,2]\n",
    "L"
   ]
  },
  {
   "cell_type": "markdown",
   "id": "collected-travel",
   "metadata": {},
   "source": [
    "If we subtract off the latest outer product, we have a matrix that is zero in the first \\emph{two} rows and columns."
   ]
  },
  {
   "cell_type": "code",
   "execution_count": 12,
   "id": "directed-characterization",
   "metadata": {},
   "outputs": [
    {
     "data": {
      "text/plain": [
       "4×4 Matrix{Float64}:\n",
       " 0.0  0.0   0.0    0.0\n",
       " 0.0  0.0   0.0    0.0\n",
       " 0.0  0.0  -3.0    6.0\n",
       " 0.0  0.0   6.0  -10.0"
      ]
     },
     "execution_count": 12,
     "metadata": {},
     "output_type": "execute_result"
    }
   ],
   "source": [
    "A₃ = A₂ - L[:,2]*U[2,:]'"
   ]
  },
  {
   "cell_type": "markdown",
   "id": "fitted-international",
   "metadata": {},
   "source": [
    "Now we can deal with the lower right $2\\times 2$ submatrix of the remainder in a similar fashion."
   ]
  },
  {
   "cell_type": "code",
   "execution_count": 13,
   "id": "induced-zambia",
   "metadata": {},
   "outputs": [
    {
     "data": {
      "text/plain": [
       "4×4 Matrix{Float64}:\n",
       " 0.0  0.0  0.0  0.0\n",
       " 0.0  0.0  0.0  0.0\n",
       " 0.0  0.0  0.0  0.0\n",
       " 0.0  0.0  0.0  2.0"
      ]
     },
     "execution_count": 13,
     "metadata": {},
     "output_type": "execute_result"
    }
   ],
   "source": [
    "U[3,:] = A₃[3,:]\n",
    "L[:,3] = A₃[:,3]/U[3,3]\n",
    "A₄ = A₃ - L[:,3]*U[3,:]'"
   ]
  },
  {
   "cell_type": "markdown",
   "id": "mexican-vinyl",
   "metadata": {},
   "source": [
    "Finally, we pick up the last unknown in the factors."
   ]
  },
  {
   "cell_type": "code",
   "execution_count": 14,
   "id": "coral-constitution",
   "metadata": {},
   "outputs": [],
   "source": [
    "U[4,4] = A₄[4,4];"
   ]
  },
  {
   "cell_type": "markdown",
   "id": "generous-bailey",
   "metadata": {},
   "source": [
    "We now have all of $\\mathbf{L}$,"
   ]
  },
  {
   "cell_type": "code",
   "execution_count": 15,
   "id": "biological-chair",
   "metadata": {},
   "outputs": [
    {
     "data": {
      "text/plain": [
       "4×4 Matrix{Float64}:\n",
       "  1.0  0.0  -0.0  0.0\n",
       " -2.0  1.0  -0.0  0.0\n",
       "  0.5  3.0   1.0  0.0\n",
       " -1.0  0.0  -2.0  1.0"
      ]
     },
     "execution_count": 15,
     "metadata": {},
     "output_type": "execute_result"
    }
   ],
   "source": [
    "L"
   ]
  },
  {
   "cell_type": "markdown",
   "id": "intended-booth",
   "metadata": {},
   "source": [
    "and all of $\\mathbf{U}$,"
   ]
  },
  {
   "cell_type": "code",
   "execution_count": 16,
   "id": "common-junction",
   "metadata": {},
   "outputs": [
    {
     "data": {
      "text/plain": [
       "4×4 Matrix{Float64}:\n",
       " 2.0  0.0   4.0   3.0\n",
       " 0.0  5.0   1.0  -4.0\n",
       " 0.0  0.0  -3.0   6.0\n",
       " 0.0  0.0   0.0   2.0"
      ]
     },
     "execution_count": 16,
     "metadata": {},
     "output_type": "execute_result"
    }
   ],
   "source": [
    "U"
   ]
  },
  {
   "cell_type": "markdown",
   "id": "convertible-marketplace",
   "metadata": {},
   "source": [
    "We can verify that we have a correct factorization of the original matrix by computing the backward error:"
   ]
  },
  {
   "cell_type": "code",
   "execution_count": 17,
   "id": "according-input",
   "metadata": {},
   "outputs": [
    {
     "data": {
      "text/plain": [
       "4×4 Matrix{Float64}:\n",
       " 0.0  0.0  0.0  0.0\n",
       " 0.0  0.0  0.0  0.0\n",
       " 0.0  0.0  0.0  0.0\n",
       " 0.0  0.0  0.0  0.0"
      ]
     },
     "execution_count": 17,
     "metadata": {},
     "output_type": "execute_result"
    }
   ],
   "source": [
    "A₁ - L*U"
   ]
  },
  {
   "cell_type": "markdown",
   "id": "featured-affect",
   "metadata": {},
   "source": [
    "In floating point, we cannot always expect all the elements to be exactly equal as we found in this toy example. Instead, we would be satisfied to see that each element of the difference above is comparable in size to machine precision.\n",
    "\n",
    "```{raw} html\n",
    "</div>\n",
    "```\n",
    "\n",
    "```{raw} latex\n",
    "%%end demo%%\n",
    "```\n",
    "\n",
    "We have arrived at the linchpin of solving linear systems. \n",
    "\n",
    "```{index} ! matrix factorization; LU, ! LU factorization\n",
    "```\n",
    " \n",
    "::::{proof:definition} LU factorization\n",
    "Given $n\\times n$ matrix $\\mathbf{A}$, its **LU factorization** is\n",
    "\n",
    ":::{math}\n",
    ":label: def-lu\n",
    "\\mathbf{A} = \\mathbf{L}\\mathbf{U},\n",
    ":::\n",
    "\n",
    "where $\\mathbf{L}$ is a unit lower triangular matrix and $\\mathbf{U}$ is an upper triangular matrix.\n",
    "::::\n",
    "\n",
    "The outer product algorithm for LU factorization seen in {numref}`Demo {number} <demo-lu-derive>` is coded as {numref}`Function {number} <function-lufact>`. \n",
    "\n",
    "(function-lufact)=\n",
    "````{proof:function} lufact\n",
    "**LU factorization (not stable)**\n",
    "```{code-block} julia\n",
    ":lineno-start: 1\n",
    "\"\"\"\n",
    "    lufact(A)\n",
    "\n",
    "Compute the LU factorization of square matrix `A`, returning the\n",
    "factors.\n",
    "\"\"\"\n",
    "function lufact(A)\n",
    "    n = size(A,1)\n",
    "    L = diagm(ones(n))   # ones on main diagonal, zeros elsewhere\n",
    "    U = zeros(n,n)\n",
    "    Aₖ = float(copy(A))\n",
    "\n",
    "    # Reduction by outer products\n",
    "    for k in 1:n-1\n",
    "        U[k,:] = Aₖ[k,:]\n",
    "        L[:,k] = Aₖ[:,k]/U[k,k]\n",
    "        Aₖ -= L[:,k]*U[k,:]'\n",
    "    end\n",
    "    U[n,n] = Aₖ[n,n]\n",
    "    return LowerTriangular(L),UpperTriangular(U)\n",
    "end\n",
    "```\n",
    "````\n",
    "\n",
    "````{admonition} About the code\n",
    ":class: dropdown\n",
    "Line 11 of {numref}`Function {number} <function-lufact>` points out two subtle Julia issues. First, vectors and matrix variables are really just references to blocks of memory. Such a reference is much more efficient to pass around than the complete contents of the array. However, it means that a statement `Aₖ=A` just clones the array reference of `A` into the variable `Aₖ`. Any changes made to entries of `Aₖ` would then also be made to entries of `A`, because they refer to the same location in memory. In this context we don't want to change the original matrix, so we use `copy` here to create an independent copy of the array contents and a new reference to them.\n",
    "\n",
    "The second issue is that even when `A` has all integer entries, its LU factors may not. So we convert `Aₖ` to floating point so that line 17 will not fail due to the creation of floating-point values in an integer matrix. An alternative would be to require the caller to provide a floating-point array in the first place.\n",
    "````\n",
    "\n",
    "## Gaussian elimination and linear systems\n",
    "\n",
    "```{index} Gaussian elimination\n",
    "```\n",
    "\n",
    "In your first matrix algebra course, you probably learned a triangularization technique called **Gaussian elimination** or row elimination to solve a linear system $\\mathbf{A}\\mathbf{x}=\\mathbf{b}$. In most presentations, you form an augmented matrix $[\\mathbf{A}\\;\\mathbf{b}]$ and do row operations until the system reaches an upper triangular form, followed by backward substitution. LU factorization is equivalent to Gaussian elimination in which no row swaps are performed, and the elimination procedure produces the factors if you keep track of the row multipliers appropriately. \n",
    "\n",
    "Like Gaussian elimination, the primary use of LU factorization is to solve a linear system. It reduces a given linear system to two triangular ones. From this, solving $\\mathbf{A}\\mathbf{x}=\\mathbf{b}$ follows immediately from associativity:\n",
    "\n",
    "$$\n",
    "\\mathbf{b} = \\mathbf{A} \\mathbf{x} = (\\mathbf{L} \\mathbf{U}) \\mathbf{x} = \\mathbf{L} (\\mathbf{U} \\mathbf{x}).\n",
    "$$\n",
    "\n",
    "Defining $\\mathbf{z} = \\mathbf{U} \\mathbf{x}$ leads to the following.\n",
    "\n",
    "(algorithm-lu-solve)=\n",
    "::::{proof:algorithm} Solution of linear systems by LU factorization (unstable)\n",
    "1. Factor $\\mathbf{L}\\mathbf{U}=\\mathbf{A}$.\n",
    "2. Solve $\\mathbf{L}\\mathbf{z}=\\mathbf{b}$ for $\\mathbf{z}$ using forward substitution.\n",
    "3. Solve $\\mathbf{U}\\mathbf{x}=\\mathbf{z}$ for $\\mathbf{x}$ using backward substitution.\n",
    "::::\n",
    "\n",
    "A key advantage of the factorization point of view is that it depends only on the matrix $\\mathbf{A}$. If systems are to be solved for a single $\\mathbf{A}$ but multiple different versions of $\\mathbf{b}$, then the factorization approach is more efficient, as we'll see in {numref}`section-linsys-efficiency`. \n",
    "\n",
    "(demo-lu-solve)=\n",
    "::::{proof:demo}\n",
    "::::\n",
    "\n",
    "```{raw} html\n",
    "<div class='demo'>\n",
    "```\n",
    "\n",
    "```{raw} latex\n",
    "%%start demo%%\n",
    "```\n",
    "\n",
    "Here are the data for a linear system $\\mathbf{A}\\mathbf{x}=\\mathbf{b}$."
   ]
  },
  {
   "cell_type": "code",
   "execution_count": 18,
   "id": "specific-spank",
   "metadata": {},
   "outputs": [],
   "source": [
    "A = [2 0 4 3; -4 5 -7 -10; 1 15 2 -4.5; -2 0 2 -13];\n",
    "b = [4,9,9,4];"
   ]
  },
  {
   "cell_type": "markdown",
   "id": "auburn-latitude",
   "metadata": {},
   "source": [
    "We apply {numref}`Function {number} <function-lufact>` and then do two triangular solves."
   ]
  },
  {
   "cell_type": "code",
   "execution_count": 19,
   "id": "boolean-vermont",
   "metadata": {},
   "outputs": [
    {
     "data": {
      "text/plain": [
       "4-element Vector{Float64}:\n",
       " 192.66666666666666\n",
       " -15.533333333333335\n",
       " -65.33333333333333\n",
       " -40.0"
      ]
     },
     "execution_count": 19,
     "metadata": {},
     "output_type": "execute_result"
    }
   ],
   "source": [
    "L,U = FNC.lufact(A)\n",
    "z = FNC.forwardsub(L,b)\n",
    "x = FNC.backsub(U,z)"
   ]
  },
  {
   "cell_type": "markdown",
   "id": "numerous-collection",
   "metadata": {},
   "source": [
    "A check on the residual assures us that we found the solution."
   ]
  },
  {
   "cell_type": "code",
   "execution_count": 20,
   "id": "expensive-export",
   "metadata": {},
   "outputs": [
    {
     "data": {
      "text/plain": [
       "4-element Vector{Float64}:\n",
       "  0.0\n",
       " -5.684341886080802e-14\n",
       "  2.842170943040401e-14\n",
       "  0.0"
      ]
     },
     "execution_count": 20,
     "metadata": {},
     "output_type": "execute_result"
    }
   ],
   "source": [
    "b - A*x"
   ]
  },
  {
   "cell_type": "markdown",
   "id": "documentary-bradley",
   "metadata": {},
   "source": [
    "```{raw} html\n",
    "</div>\n",
    "```\n",
    "\n",
    "```{raw} latex\n",
    "%%end demo%%\n",
    "```\n",
    "\n",
    "As noted in the descriptions of {numref}`Function {number} <function-lufact>` and {numref}`Algorithm {number} <algorithm-lu-solve>`, the LU factorization as we have seen it so far is not stable for all matrices. In fact, it does not always even exist. The missing element is the row swapping allowed in Gaussian elimination. We will address these issues in {numref}`section-linsys-pivoting`.\n",
    "\n",
    "## Exercises\n",
    "\n",
    "1. ✍ For each matrix, produce an LU factorization by hand. \n",
    "\n",
    "    **(a)** $\\quad \\displaystyle \\begin{bmatrix}\n",
    "    2 & 3 & 4 \\\\\n",
    "    4 & 5 & 10 \\\\\n",
    "    4 & 8 & 2\n",
    "    \\end{bmatrix}\\qquad$\n",
    "    **(b)** $\\quad \\displaystyle \\begin{bmatrix}\n",
    "    6 & -2 & -4 & 4\\\\\n",
    "    3 & -3 & -6 & 1 \\\\\n",
    "    -12 & 8 & 21 & -8 \\\\\n",
    "    -6 & 0 & -10 & 7\n",
    "    \\end{bmatrix}$\n",
    "\n",
    "2. ⌨ The matrices\n",
    "  \n",
    "    ```{math}\n",
    "    \\mathbf{T}(x,y) = \\begin{bmatrix}\n",
    "      1 & 0 & 0 \\\\ 0 & 1 & 0 \\\\ x & y & 1\n",
    "    \\end{bmatrix},\\qquad\n",
    "    \\mathbf{R}(\\theta) = \\begin{bmatrix}\n",
    "      \\cos\\theta & \\sin \\theta & 0 \\\\ -\\sin\\theta & \\cos \\theta & 0 \\\\ 0 & 0 & 1\n",
    "    \\end{bmatrix}\n",
    "    ```\n",
    "\n",
    "    are used to represent translations and rotations of plane points in computer graphics. For the following, let\n",
    "  \n",
    "    ```{math}\n",
    "    \\mathbf{A} = \\mathbf{T}(3,-1)\\mathbf{R}(\\pi/5)\\mathbf{T}(-3,1), \\qquad \\mathbf{z} = \\begin{bmatrix}\n",
    "      2 \\\\ 2 \\\\ 1\n",
    "    \\end{bmatrix}.\n",
    "    ```\n",
    "\n",
    "    **(a)** Find $\\mathbf{b} = \\mathbf{A}\\mathbf{z}$.\n",
    "\n",
    "    **(b)** Use {numref}`Function {number} <function-lufact>` to find the LU factorization of $\\mathbf{A}$.\n",
    "\n",
    "    **(c)** Use the factors with triangular substitutions in order to solve $\\mathbf{A}\\mathbf{x}=\\mathbf{b}$, and find $\\mathbf{x}-\\mathbf{z}$.\n",
    "  \n",
    "    (problem-bigcorner)=\n",
    "3. ⌨ In Julia, define\n",
    "  \n",
    "    ```{math}\n",
    "    \\mathbf{A}= \\begin{bmatrix}\n",
    "      1 & 0 & 0 & 0 & 10^{12} \\\\\n",
    "      1 & 1 & 0 & 0 & 0 \\\\\n",
    "      0 & 1 & 1 & 0 & 0 \\\\\n",
    "      0 & 0 & 1 & 1 & 0 \\\\\n",
    "      0 & 0 & 0 & 1 & 0\n",
    "    \\end{bmatrix},\n",
    "    \\quad \\hat{\\mathbf{x}} = \\begin{bmatrix}\n",
    "      0 \\\\ 1/3 \\\\ 2/3 \\\\ 1 \\\\ 4/3\n",
    "    \\end{bmatrix},\n",
    "    \\quad \\mathbf{b} = \\mathbf{A}\\hat{\\mathbf{x}}.\n",
    "    ```\n",
    "\n",
    "    **(a)** Using {numref}`Function {number}<function-lufact>` and triangular substitutions, solve the linear system $\\mathbf{A}\\mathbf{x}=\\mathbf{b}$, showing the result. To the nearest integer, how many accurate digits are in the result? (The answer is much less than the full 16 of double precision.)\n",
    "\n",
    "    **(b)** Repeat part (a) with $10^{20}$ as the element in the upper right corner. (The result is even less accurate. We will study the causes of such low accuracy in {numref}`section-linsys-condition-number`.)\n",
    "  \n",
    "4. ⌨ Let\n",
    "\n",
    "    $$\n",
    "\t\\mathbf{A} = \n",
    "\t\\begin{bmatrix}\n",
    "     1 & 1 & 0 & 1 & 0 & 0 \\\\\n",
    "     0 & 1 & 1 & 0 & 1 & 0 \\\\\n",
    "     0 & 0 & 1 & 1 & 0 & 1 \\\\\n",
    "     1 & 0 & 0 & 1 & 1 & 0 \\\\\n",
    "     1 & 1 & 0 & 0 & 1 & 1 \\\\\n",
    "     0 & 1 & 1 & 0 & 0 & 1\n",
    "    \\end{bmatrix}.\n",
    "    $$\n",
    "\n",
    "    Verify computationally that if $\\mathbf{A}=\\mathbf{L}\\mathbf{U}$ is the LU factorization, then the elements of $\\mathbf{L}$, $\\mathbf{U}$, $\\mathbf{L}^{-1}$, and $\\mathbf{U}^{-1}$ are all integers. Do **not** rely just on visual inspection of the numbers; perform a more definitive test.\n",
    "\n",
    "5. ⌨ {numref}`Function {number}<function-lufact>` factors $\\mathbf{A}=\\mathbf{L}\\mathbf{U}$ in such a way that $\\mathbf{L}$ is a unit lower triangular matrix—that is, has all ones on the diagonal. It is also possible to define the factorization so that $\\mathbf{U}$ is a unit upper triangular matrix instead. Write a function `lufact2` that uses {numref}`Function {number}<function-lufact>` *without modification* to produce this version of the factorization. (Hint: Begin with the standard LU factorization of $\\mathbf{A}^T$.) Demonstrate on a nontrivial $4\\times 4$ example.\n",
    "\n",
    "6. When computing the determinant of a matrix by hand, it's common to use cofactor expansion and apply the definition recursively. But this is terribly inefficient as a function of the matrix size.\n",
    "  \n",
    "    **(a)** ✍ Explain why, if $\\mathbf{A}=\\mathbf{L}\\mathbf{U}$ is an LU factorization,\n",
    "\n",
    "    ```{math}\n",
    "      \\det(\\mathbf{A}) = U_{11}U_{22}\\cdots U_{nn}=\\prod_{i=1}^n U_{ii}.\n",
    "    ```\n",
    "\n",
    "    **(b)** ⌨ Using the result of part (a), write a function `determinant(A)` that computes the determinant using {numref}`Function {number}<function-lufact>`. Test your function on at least two nontriangular $5\\times 5$ matrices, comparing your result to the result of the standard `det` function."
   ]
  }
 ],
 "metadata": {
  "jupytext": {
   "cell_metadata_filter": "-all",
   "formats": "md:myst",
   "text_representation": {
    "extension": ".md",
    "format_name": "myst",
    "format_version": 0.13,
    "jupytext_version": "1.10.3"
   }
  },
  "kernelspec": {
   "display_name": "Julia 1.6.1",
   "language": "julia",
   "name": "julia-fast"
  },
  "language_info": {
   "file_extension": ".jl",
   "mimetype": "application/julia",
   "name": "julia",
   "version": "1.6.2"
  },
  "source_map": [
   15,
   18,
   126,
   130,
   132,
   145,
   149,
   153,
   155,
   204,
   213,
   217,
   220,
   224,
   227,
   231,
   233,
   237,
   241,
   245,
   247,
   251,
   255,
   259,
   261,
   265,
   267,
   271,
   273,
   277,
   279,
   383,
   386,
   390,
   394,
   398,
   400
  ]
 },
 "nbformat": 4,
 "nbformat_minor": 5
}