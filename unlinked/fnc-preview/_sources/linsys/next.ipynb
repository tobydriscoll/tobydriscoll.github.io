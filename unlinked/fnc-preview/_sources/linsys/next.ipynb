{
 "cells": [
  {
   "cell_type": "code",
   "execution_count": 1,
   "id": "activated-vietnamese",
   "metadata": {
    "tags": [
     "remove-cell"
    ]
   },
   "outputs": [],
   "source": [
    "include(\"../init-notebook.jl\")"
   ]
  },
  {
   "cell_type": "markdown",
   "id": "muslim-excellence",
   "metadata": {},
   "source": [
    "(section-linsys-next)=\n",
    "# Next steps\n",
    "\n",
    "The underlying theory for linear systems is covered in numerous linear algebra textbooks.  Some popular choices include those by Strang {cite}`strangIntroductionLinear2016`, Lay {cite}`layLinearAlgebra2012` and Leon {cite}`leonLinearAlgebra2006`, but there are many other good choices.\n",
    "\n",
    "More advanced texts specifically on numerical linear algebra include the classic texts by Trefethen and Bau {cite}`trefethenNumericalLinear1997` and Golub and Van Loan {cite}`golubMatrixComputations1996`.\n",
    "\n",
    "Numerical analysis of the fundamental algorithms is emphasized in Higham {cite}`highamAccuracyStability2002`; there are many interesting quotations there as well.  Here is a sample:\n",
    "\n",
    "> Many years ago we made out of half a dozen transformers a simple and rather inaccurate machine for solving simultaneous equations—the solutions being represented as flux in the cores of the transformers.  During the course of our experiments we set the machine to solve the equations—\n",
    "\n",
    "```{math}\n",
    "\\begin{split}\n",
    "& X+Y+Z=1 \\\\\n",
    "& X+Y+Z=2 \\\\\n",
    "& X+Y+Z=3\n",
    "\\end{split}\n",
    "```\n",
    "\n",
    "> The machine reacted sharply—it blew the main fuse and put all the lights out. (B. V. Bowden, *The Organization of a Typical Machine*, 1953)\n",
    "\n",
    "The reader may find historical information on numerical linear algebra of interest at [the SIAM website](http://history.siam.org).  The materials include presentations, oral histories, articles and links on a wide range of topics in numerical analysis and scientific computing including numerical linear algebra."
   ]
  }
 ],
 "metadata": {
  "jupytext": {
   "cell_metadata_filter": "-all",
   "formats": "md:myst",
   "text_representation": {
    "extension": ".md",
    "format_name": "myst",
    "format_version": 0.13,
    "jupytext_version": "1.10.3"
   }
  },
  "kernelspec": {
   "display_name": "Julia 1.6.1",
   "language": "julia",
   "name": "julia-fast"
  },
  "language_info": {
   "file_extension": ".jl",
   "mimetype": "application/julia",
   "name": "julia",
   "version": "1.6.1"
  },
  "source_map": [
   15,
   18
  ]
 },
 "nbformat": 4,
 "nbformat_minor": 5
}