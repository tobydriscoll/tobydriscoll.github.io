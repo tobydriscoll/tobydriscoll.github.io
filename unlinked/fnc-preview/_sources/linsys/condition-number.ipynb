{
 "cells": [
  {
   "cell_type": "code",
   "execution_count": 1,
   "id": "available-prescription",
   "metadata": {
    "tags": [
     "remove-cell"
    ]
   },
   "outputs": [],
   "source": [
    "include(\"../init-notebook.jl\")"
   ]
  },
  {
   "cell_type": "markdown",
   "id": "acting-flexibility",
   "metadata": {},
   "source": [
    "(section-linsys-condition-number)=\n",
    "# Conditioning of linear systems\n",
    "\n",
    "```{index} condition number; of linear system\n",
    "```\n",
    "\n",
    "We are ready to consider the conditioning of solving the square linear system $\\mathbf{A}\\mathbf{x}=\\mathbf{b}$. In this problem, the data are $\\mathbf{A}$ and $\\mathbf{b}$, and the solution is $\\mathbf{x}$. Both data and result are multidimensional, so we will use norms to measure their magnitudes.\n",
    "\n",
    "The motivation for the definition of relative condition number in Chapter 1 was to quantify the response of the result to perturbations of the data. For simplicity, we start by allowing perturbations to $\\mathbf{b}$ only while $\\mathbf{A}$ remains fixed. \n",
    "\n",
    "Let $\\mathbf{A}\\mathbf{x}=\\mathbf{b}$ be perturbed to\n",
    "\n",
    "```{math}\n",
    "  \\mathbf{A}(\\mathbf{x}+\\mathbf{h}) = \\mathbf{b}+\\mathbf{d}.\n",
    "```\n",
    "\n",
    "The condition number should be the relative change in the solution divided by relative change in the data,\n",
    "\n",
    "```{math}\n",
    "  \\frac{\\quad\\dfrac{\\| \\mathbf{h} \\| }{\\| \\mathbf{x} \\| }\\quad}{\\dfrac{\\| \\mathbf{d} \\| }{\\| \\mathbf{b} \\|}} \n",
    "  = \\frac{\\| \\mathbf{h} \\|\\;\\| \\mathbf{b} \\| }{\\| \\mathbf{d} \\|\\; \\| \\mathbf{x} \\| }.\n",
    "```\n",
    "\n",
    "We can bound $\\| \\mathbf{h} \\|$ in terms of $\\| \\mathbf{d} \\|$:\n",
    "\n",
    "```{math}\n",
    "\\begin{split}\n",
    "  \\mathbf{A}\\mathbf{x} +  \\mathbf{A} \\mathbf{h} &= \\mathbf{b} + \\mathbf{d} \\\\\n",
    "  \\mathbf{A} \\mathbf{h} &= \\mathbf{d}\\\\\n",
    "  \\mathbf{h} &= \\mathbf{A}^{-1} \\mathbf{d}\\\\\n",
    "  \\| \\mathbf{h} \\| &\\le \\| \\mathbf{A}^{-1}\\| \\,\\| \\mathbf{d} \\|,\n",
    "\\end{split}\n",
    "```\n",
    "\n",
    "where we have applied $\\mathbf{A}\\mathbf{x}=\\mathbf{b}$ and {eq}`normineq1`. \n",
    "Since also $\\mathbf{b}=\\mathbf{A}\\mathbf{x}$ implies $\\| \\mathbf{b} \\|\\le\n",
    "\\| \\mathbf{A} \\|\\, \\| \\mathbf{x} \\|$, we derive\n",
    "\n",
    "```{math}\n",
    "   \\frac{\\| \\mathbf{h} \\|\\; \\| \\mathbf{b} \\|}{\\| \\mathbf{d} \\|\\; \\| \\mathbf{x} \\|} \n",
    "   \\le \\frac{\\bigl(\\| \\mathbf{A}^{-1} \\|\\, \\| \\mathbf{d} \\|\\bigr)\n",
    "    \\bigl(\\| \\mathbf{A} \\|\\,\\| \\mathbf{x} \\|\\bigr)}{\\| \\mathbf{d} \\|\\,\\| \\mathbf{x} \\|} \n",
    "    = \\| \\mathbf{A}^{-1}\\| \\, \\| \\mathbf{A} \\|.\n",
    "```\n",
    "\n",
    "```{index} condition number; of a matrix\n",
    "```\n",
    "\n",
    "It is possible to show that this bound is tight, in the sense that the inequalities are in fact equalities for some choices of $\\mathbf{b}$ and $\\mathbf{d}$. This result motivates a new definition.\n",
    "\n",
    "::::{proof:definition} Matrix condition number\n",
    "The **matrix condition number** of an invertible square matrix $\\mathbf{A}$ is \n",
    "\n",
    "```{math}\n",
    ":label: mxcond\n",
    "\\kappa(\\mathbf{A}) = \\| \\mathbf{A}^{-1}\\| \\, \\| \\mathbf{A} \\|.\n",
    "```\n",
    "\n",
    "This value depends on the choice of norm; a subscript on $\\kappa$ such as $1$, $2$, or $\\infty$ is used if clarification is needed. If $\\mathbf{A}$ is singular, we define $\\kappa(\\mathbf{A}) = \\infty$.\n",
    "::::\n",
    "\n",
    "## Main result\n",
    "\n",
    "The matrix condition number {eq}`mxcond` is equal to the condition number of solving a linear system of equations. Although we derived this fact above only for perturbations of $\\mathbf{b}$, a similar statement holds when $\\mathbf{A}$ is perturbed.\n",
    "\n",
    "Using a traditional $\\Delta$ notation for the perturbation in a quantity, we can write the following.\n",
    "\n",
    "````{proof:theorem} Conditioning of linear systems\n",
    "If $\\mathbf{A}(\\mathbf{x} + \\Delta \\mathbf{x}) = \\mathbf{b} + \\Delta \\mathbf{b}$, then\n",
    "\n",
    "```{math}\n",
    ":label: linsyscondb\n",
    "\\frac{\\| \\Delta \\mathbf{x} \\|}{\\| \\mathbf{x} \\|} \\le \\kappa(\\mathbf{A}) \\frac{\\| \\Delta \\mathbf{b} \\|}{\\| \\mathbf{b} \\|}.\n",
    "```\n",
    "\n",
    "If $(\\mathbf{A}+\\Delta \\mathbf{A}) (\\mathbf{x} + \\Delta \\mathbf{x}) = \\mathbf{b}$, then\n",
    "\n",
    "```{math}\n",
    ":label: linsyscondA\n",
    "\\frac{\\| \\Delta \\mathbf{x} \\|}{\\| \\mathbf{x} \\|} \\le \\kappa(\\mathbf{A}) \\frac{\\| \\Delta \\mathbf{A} \\|}{\\| \\mathbf{A} \\|},\n",
    "```\n",
    "\n",
    "in the limit $\\| \\Delta \\mathbf{A} \\| \\to 0$.\n",
    "````\n",
    "\n",
    "Note that for any induced matrix norm,\n",
    "\n",
    "```{math}\n",
    "  1 = \\| \\mathbf{I} \\| = \\| \\mathbf{A} \\mathbf{A}^{-1} \\| \\le \\| \\mathbf{A} \\|\\, \\| \\mathbf{A}^{-1} \\| = \\kappa(\\mathbf{A}).\n",
    "```\n",
    "\n",
    "A condition number of 1 is the best we can hope for—in that case, the relative perturbation of the solution has the same size as that of the data.  A condition number of size $10^t$ indicates that in floating-point arithmetic, roughly $t$ digits are lost (i.e., become incorrect) in computing the solution $\\mathbf{x}$. And if $\\kappa(\\mathbf{A}) > \\epsilon_\\text{mach}^{-1}$, then for computational purposes the matrix is essentially singular. \n",
    "\n",
    "(demo-condition-bound)=\n",
    "```{proof:demo}\n",
    "```\n",
    "\n",
    "```{raw} html\n",
    "<div class='demo'>\n",
    "```\n",
    "\n",
    "```{raw} latex\n",
    "%%start demo%%\n",
    "```\n",
    "\n",
    "```{index} ! Julia; cond\n",
    "```\n",
    "::::{panels}\n",
    ":column: col-7 left-side\n",
    ":card: border-0 shadow-none\n",
    "```{raw} latex\n",
    "\\begin{minipage}[t]{0.5\\textwidth}\n",
    "```\n",
    "Julia has a function `cond` to compute matrix condition numbers. By default, the 2-norm is used. As an example, the family of *Hilbert matrices* is famously badly conditioned. Here is the $6\\times 6$  case.\n",
    "\n",
    "```{raw} latex\n",
    "\\end{minipage}\\hfill\n",
    "```\n",
    "---\n",
    ":column: col-5 right-side\n",
    ":card: shadow-none comment\n",
    "```{raw} latex\n",
    "\\begin{minipage}[t]{0.4\\textwidth}\\begin{mdframed}[default]\\small\n",
    "```\n",
    "Type `\\kappa` followed by <kbd>Tab</kbd> to get the Greek letter $\\kappa$.\n",
    "```{raw} latex\n",
    "\\end{mdframed}\\end{minipage}\n",
    "```\n",
    "::::"
   ]
  },
  {
   "cell_type": "code",
   "execution_count": 2,
   "id": "ordered-stockholm",
   "metadata": {},
   "outputs": [
    {
     "data": {
      "text/plain": [
       "5.109816296610315e7"
      ]
     },
     "execution_count": 2,
     "metadata": {},
     "output_type": "execute_result"
    }
   ],
   "source": [
    "A = [ 1/(i+j) for i in 1:6, j in 1:6 ]\n",
    "κ = cond(A)"
   ]
  },
  {
   "cell_type": "markdown",
   "id": "small-sixth",
   "metadata": {},
   "source": [
    "Because $\\kappa\\approx 10^8$, it's possible to lose nearly 8 digits of accuracy in the process of passing from $\\mathbf{A}$ and $\\mathbf{b}$ to $\\mathbf{x}$. That fact is independent of the algorithm; it's inevitable once the data are expressed in finite precision. \n",
    "\n",
    "Let's engineer a linear system problem to observe the effect of a perturbation. We will make sure we know the exact answer."
   ]
  },
  {
   "cell_type": "code",
   "execution_count": 3,
   "id": "democratic-bristol",
   "metadata": {},
   "outputs": [
    {
     "data": {
      "text/plain": [
       "6-element Vector{Float64}:\n",
       " 4.407142857142857\n",
       " 3.564285714285714\n",
       " 3.013095238095238\n",
       " 2.6174603174603175\n",
       " 2.317279942279942\n",
       " 2.0807359307359308"
      ]
     },
     "execution_count": 3,
     "metadata": {},
     "output_type": "execute_result"
    }
   ],
   "source": [
    "x = 1:6\n",
    "b = A*x"
   ]
  },
  {
   "cell_type": "markdown",
   "id": "varied-august",
   "metadata": {},
   "source": [
    "Now we perturb the system matrix and vector randomly by $10^{-10}$ in norm."
   ]
  },
  {
   "cell_type": "code",
   "execution_count": 4,
   "id": "domestic-warren",
   "metadata": {},
   "outputs": [],
   "source": [
    "ΔA = randn(size(A));  ΔA = 1e-10*(ΔA/opnorm(ΔA));\n",
    "Δb = randn(size(b));  Δb = 1e-10*normalize(Δb);"
   ]
  },
  {
   "cell_type": "markdown",
   "id": "organic-optimization",
   "metadata": {},
   "source": [
    "We solve the perturbed problem using pivoted LU and see how the solution was changed."
   ]
  },
  {
   "cell_type": "code",
   "execution_count": 5,
   "id": "familiar-lindsay",
   "metadata": {},
   "outputs": [
    {
     "data": {
      "text/plain": [
       "6-element Vector{Float64}:\n",
       "  3.056506313159346e-6\n",
       " -2.5709900620451975e-5\n",
       "  3.675077935572091e-5\n",
       "  8.064671040663995e-5\n",
       " -0.00020433507859163313\n",
       "  0.00011046533141989556"
      ]
     },
     "execution_count": 5,
     "metadata": {},
     "output_type": "execute_result"
    }
   ],
   "source": [
    "new_x = ((A+ΔA) \\ (b+Δb))\n",
    "Δx = new_x - x"
   ]
  },
  {
   "cell_type": "markdown",
   "id": "satisfactory-jacket",
   "metadata": {},
   "source": [
    "Here is the relative error in the solution."
   ]
  },
  {
   "cell_type": "code",
   "execution_count": 6,
   "id": "serial-baking",
   "metadata": {},
   "outputs": [
    {
     "name": "stdout",
     "output_type": "stream",
     "text": [
      "relative_error = norm(Δx) / norm(x) = 2.6202983365958074e-5\n"
     ]
    }
   ],
   "source": [
    "@show relative_error = norm(Δx) / norm(x);"
   ]
  },
  {
   "cell_type": "markdown",
   "id": "bronze-lesbian",
   "metadata": {},
   "source": [
    "And here are upper bounds predicted using the condition number of the original matrix."
   ]
  },
  {
   "cell_type": "code",
   "execution_count": 7,
   "id": "collected-trail",
   "metadata": {},
   "outputs": [
    {
     "name": "stdout",
     "output_type": "stream",
     "text": [
      "Upper bound due to b: 0.0006723667712613618\n",
      "Upper bound due to A: 0.004566989872745154\n"
     ]
    }
   ],
   "source": [
    "println(\"Upper bound due to b: $(κ*norm(Δb)/norm(b))\")\n",
    "println(\"Upper bound due to A: $(κ*opnorm(ΔA)/opnorm(A))\")"
   ]
  },
  {
   "cell_type": "markdown",
   "id": "julian-cocktail",
   "metadata": {},
   "source": [
    "Even if we didn't make any manual perturbations to the data, machine roundoff does so at the relative level of $\\macheps$."
   ]
  },
  {
   "cell_type": "code",
   "execution_count": 8,
   "id": "christian-discipline",
   "metadata": {},
   "outputs": [
    {
     "name": "stdout",
     "output_type": "stream",
     "text": [
      "relative_error = norm(Δx) / norm(x) = 1.2278255878021855e-9\n",
      "rounding_bound = κ * eps() = 1.134607140820324e-8\n"
     ]
    }
   ],
   "source": [
    "Δx = A\\b - x\n",
    "@show relative_error = norm(Δx) / norm(x);\n",
    "@show rounding_bound = κ*eps();"
   ]
  },
  {
   "cell_type": "markdown",
   "id": "suited-colleague",
   "metadata": {},
   "source": [
    "Larger Hilbert matrices are even more poorly conditioned:"
   ]
  },
  {
   "cell_type": "code",
   "execution_count": 9,
   "id": "entitled-mandate",
   "metadata": {},
   "outputs": [
    {
     "data": {
      "text/plain": [
       "3.870898056087325e17"
      ]
     },
     "execution_count": 9,
     "metadata": {},
     "output_type": "execute_result"
    }
   ],
   "source": [
    "A = [ 1/(i+j) for i=1:14, j=1:14 ];\n",
    "κ = cond(A)"
   ]
  },
  {
   "cell_type": "markdown",
   "id": "average-mills",
   "metadata": {},
   "source": [
    "Note that $\\kappa$ exceeds $1/\\macheps$. In principle we therefore might end up with an answer that has relative error greater than 100%."
   ]
  },
  {
   "cell_type": "code",
   "execution_count": 10,
   "id": "proof-beauty",
   "metadata": {},
   "outputs": [
    {
     "data": {
      "text/plain": [
       "85.95120295689817"
      ]
     },
     "execution_count": 10,
     "metadata": {},
     "output_type": "execute_result"
    }
   ],
   "source": [
    "rounding_bound = κ*eps()"
   ]
  },
  {
   "cell_type": "markdown",
   "id": "expensive-lloyd",
   "metadata": {},
   "source": [
    "Let's put that prediction to the test."
   ]
  },
  {
   "cell_type": "code",
   "execution_count": 11,
   "id": "bound-tuning",
   "metadata": {},
   "outputs": [
    {
     "name": "stdout",
     "output_type": "stream",
     "text": [
      "relative_error = norm(Δx) / norm(x) = 2.3271868502658917\n"
     ]
    }
   ],
   "source": [
    "x = 1:14\n",
    "b = A*x  \n",
    "Δx = A\\b - x\n",
    "@show relative_error = norm(Δx) / norm(x);"
   ]
  },
  {
   "cell_type": "markdown",
   "id": "roman-steam",
   "metadata": {},
   "source": [
    "As anticipated, the solution has zero accurate digits in the 2-norm.\n",
    "```{raw} html\n",
    "</div>\n",
    "```\n",
    "\n",
    "```{raw} latex\n",
    "%%end demo%%\n",
    "```\n",
    "\n",
    "## Residual and backward error\n",
    "\n",
    "Suppose that $\\mathbf{A}\\mathbf{x}=\\mathbf{b}$ and $\\tilde{\\mathbf{x}}$ is a computed estimate of the solution $\\mathbf{x}$. The most natural quantity to study is the error, $\\mathbf{x}-\\tilde{\\mathbf{x}}$. Normally we can't compute it because we don't know the exact solution. However, we can compute something related.\n",
    "\n",
    "```{index} ! residual; of a linear system\n",
    "```\n",
    "\n",
    "::::{proof:definition} Residual of a linear system\n",
    "For the problem $\\mathbf{A}\\mathbf{x}=\\mathbf{b}$, the **residual** at a solution estimate $\\tilde{\\mathbf{x}}$ is \n",
    "\n",
    "```{math}\n",
    "  :label: residual\n",
    "  \\mathbf{r} = \\mathbf{b} - \\mathbf{A}\\tilde{\\mathbf{x}}.\n",
    "```\n",
    "::::\n",
    "\n",
    "```{index} backward error; in a linear system\n",
    "```\n",
    "\n",
    "Obviously, a zero residual means that $\\tilde{\\mathbf{x}}=\\mathbf{x}$, and we have the exact solution. What happens more generally? Note that $\\mathbf{A}\\tilde{\\mathbf{x}}=\\mathbf{b}-\\mathbf{r}$. That is, $\\tilde{\\mathbf{x}}$ solves the linear system problem for a right-hand side that is changed by $-\\mathbf{r}$. This is precisely what is meant by backward error.\n",
    "\n",
    "Hence residual and backward error are the same thing for a linear system. What is the connection to the (forward) error? We can reconnect with {eq}`linsyscondb` by the definition $\\mathbf{h} = \\tilde{\\mathbf{x}}-\\mathbf{x}$, in which case \n",
    "\n",
    "$$\\mathbf{d} = \\mathbf{A}(\\mathbf{x}+\\mathbf{h})-\\mathbf{b}=\\mathbf{A}\\mathbf{h} = -\\mathbf{r}.$$ \n",
    "\n",
    "Thus {eq}`linsyscondb` is equivalent to\n",
    "\n",
    "```{math}\n",
    "  :label: residualcond\n",
    "  \\frac{\\| \\mathbf{x}-\\tilde{\\mathbf{x} \\|}}{\\| \\mathbf{x} \\|} \\le\n",
    "  \\kappa(\\mathbf{A}) \\frac{\\| \\mathbf{r} \\|}{\\| \\mathbf{b} \\|}.\n",
    "```\n",
    "\n",
    "Equation {eq}`residualcond` says that the gap between relative error and the relative residual is a multiplication by the matrix condition number. \n",
    "\n",
    "```{proof:observation}\n",
    "When solving a linear system, all that can be expected is that the backward error, not the error, is small.\n",
    "```\n",
    "\n",
    "## Exercises\n",
    "\n",
    "1. ⌨ Refer to {numref}`Demo {number} <demo-condition-bound>` for the definition of a Hilbert matrix. Make a table of the values of $\\kappa(\\mathbf{H}_n)$ in the 2-norm for $n=2,3,\\ldots,16$. Speculate as to why the growth of $\\kappa$ appears to slow down at $n=13$.\n",
    "\n",
    "2. ⌨ The purpose of this problem is to verify, like in {numref}`Demo %s <demo-condition-bound>`, the error bound\n",
    "\n",
    "    ```{math}\n",
    "    \\frac{\\| \\mathbf{x}-\\tilde{\\mathbf{x} \\|}}{\\| \\mathbf{x} \\|} \\le \\kappa(\\mathbf{A})\n",
    "    \\frac{\\| \\mathbf{h} \\|}{\\| \\mathbf{b} \\|}.\n",
    "    ```\n",
    "\n",
    "    Here $\\tilde{\\mathbf{x}}$ is a numerical approximation to the exact solution $\\mathbf{x}$, and $\\mathbf{h}$ is an unknown perturbation caused by machine roundoff. We will assume that $\\| \\mathbf{d} \\|/\\| \\mathbf{b} \\|$ is roughly `eps()`.\n",
    "\n",
    "    For each $n=10,20,\\ldots,70$ let `A = matrixdepot(\"prolate\",n,0.4)` and let $\\mathbf{x}$ have components $x_k=k/n$ for $k=1,\\ldots,n$. Define `b=A*x` and let $\\tilde{\\mathbf{x}}$ be the solution produced numerically by backslash.\n",
    "\n",
    "    Make a table including columns for $n$, the condition number of $\\mathbf{A}$, the observed relative error in $\\tilde{\\mathbf{x}}$, and the right-hand side of the inequality above. You should find that the inequality holds in every case.\n",
    "\n",
    "3. ⌨ [Exercise 2.3.7](problem-ls-triangillcond) suggests that the solutions of linear systems\n",
    "\n",
    "    ```{math}\n",
    "    \\mathbf{A} = \\begin{bmatrix} 1 & -1 & 0 & \\alpha-\\beta & \\beta \\\\ 0 & 1 & -1 &\n",
    "      0 & 0 \\\\ 0 & 0 & 1 & -1 & 0 \\\\ 0 & 0 & 0 & 1 & -1  \\\\ 0 & 0 & 0 & 0 & 1\n",
    "    \\end{bmatrix}, \\quad\n",
    "    \\mathbf{b} = \\begin{bmatrix} \\alpha \\\\ 0 \\\\ 0 \\\\ 0 \\\\ 1 \\end{bmatrix}\n",
    "    ```\n",
    "\n",
    "    become less accurate as $\\beta$ increases. Using $\\alpha=0.1$ and $\\beta=10,100,\\ldots,10^{12}$, make a table with columns for $\\beta$, $|x_1-1|$, and the condition number of the matrix.\n",
    "\n",
    "4. ⌨ Let $\\mathbf{A}_n$ denote the $(n+1)\\times(n+1)$ version of the Vandermonde matrix in equation {eq}`vandersystem` based on the equally spaced interpolation nodes $t_i=i/n$ for $i=0,\\ldots,n$. Using the 1-norm, graph $\\kappa(\\mathbf{A}_n)$ as a function of $n$ for $n=4,5,6,\\ldots,20$, using a log scale on the $y$-axis. (The graph is nearly a straight line.)\n",
    " \n",
    "\n",
    "5. ⌨ The matrix $\\mathbf{A}$ in {eq}`plu-stab-A` has unpivoted LU factors given in {eq}`plu-stab-LU` as a function of parameter $\\epsilon$. For $\\epsilon = 10^{-2},10^{-4},\\ldots,10^{-10}$, make a table with columns for $\\epsilon$, $\\kappa(\\mathbf{A})$, $\\kappa(\\mathbf{L})$, and $\\kappa(\\mathbf{U})$. (This shows that solution via unpivoted LU factorization is arbitrarily unstable.)\n",
    "   \n",
    "6. ✍  Define $\\mathbf{A}_n$ as the $n\\times n$ matrix $\\displaystyle\\begin{bmatrix}\n",
    "      1 & -2 & & &\\\\\n",
    "      & 1 & -2 & & \\\\\n",
    "      & & \\ddots & \\ddots & \\\\\n",
    "      & & & 1 & -2 \\\\\n",
    "      & & & & 1\n",
    "    \\end{bmatrix}.$\n",
    "\n",
    "    **(a)** Write out $\\mathbf{A}_2^{-1}$ and $\\mathbf{A}_3^{-1}$.\n",
    "  \n",
    "    **(b)** Write out $\\mathbf{A}_n^{-1}$ in the general case $n>1$. (If necessary, look at a few more cases in Julia until you are certain of the pattern.) Make a clear argument why it is correct.\n",
    "\n",
    "    **(c)** Using the $\\infty$-norm, find $\\kappa(\\mathbf{A}_n)$.\n",
    "\n",
    "7. ✍ **(a)** Prove that for $n\\times n$ nonsingular matrices $\\mathbf{A}$ and $\\mathbf{B}$, $\\kappa(\\mathbf{A}\\mathbf{B})\\le \\kappa(\\mathbf{A})\\kappa(\\mathbf{B})$.\n",
    "\n",
    "    **(b)** Show by means of an example that the result of part (a) cannot be an equality in general.\n",
    "\n",
    "8. ✍  Let $\\mathbf{D}$ be a diagonal $n\\times n$ matrix, not necessarily invertible. Prove that in the 1-norm,\n",
    "\n",
    "    ```{math}\n",
    "    \\kappa(\\mathbf{D}) = \\frac{\\max_i |D_{ii}|}{\\min_i |D_{ii}|}.\n",
    "    ```\n",
    "\n",
    "    (Hint: See [Exercise 2.7.10](problem-norms-diagnorm).)"
   ]
  }
 ],
 "metadata": {
  "jupytext": {
   "cell_metadata_filter": "-all",
   "formats": "md:myst",
   "text_representation": {
    "extension": ".md",
    "format_name": "myst",
    "format_version": 0.13,
    "jupytext_version": "1.10.3"
   }
  },
  "kernelspec": {
   "display_name": "Julia 1.6.1",
   "language": "julia",
   "name": "julia-fast"
  },
  "language_info": {
   "file_extension": ".jl",
   "mimetype": "application/julia",
   "name": "julia",
   "version": "1.6.1"
  },
  "source_map": [
   15,
   18,
   150,
   153,
   159,
   162,
   166,
   169,
   173,
   176,
   180,
   182,
   186,
   189,
   193,
   197,
   201,
   204,
   208,
   210,
   214,
   219
  ]
 },
 "nbformat": 4,
 "nbformat_minor": 5
}