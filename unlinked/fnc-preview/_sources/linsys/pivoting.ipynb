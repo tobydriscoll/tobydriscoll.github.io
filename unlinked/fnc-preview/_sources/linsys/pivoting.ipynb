{
 "cells": [
  {
   "cell_type": "code",
   "execution_count": 1,
   "id": "differential-program",
   "metadata": {
    "tags": [
     "remove-cell"
    ]
   },
   "outputs": [],
   "source": [
    "include(\"../init-notebook.jl\")"
   ]
  },
  {
   "cell_type": "markdown",
   "id": "painful-option",
   "metadata": {},
   "source": [
    "(section-linsys-pivoting)=\n",
    "# Row pivoting\n",
    "\n",
    "```{index} matrix factorization; LU \n",
    "```\n",
    "\n",
    "As mentioned in {numref}`section-linsys-lu`, the $\\mathbf{A}=\\mathbf{L}\\mathbf{U}$ factorization is not stable for every nonsingular $\\mathbf{A}$. Indeed, the factorization does not always even exist.\n",
    "\n",
    "(demo-pivoting-fail)=\n",
    "```{proof:demo}\n",
    "```\n",
    "\n",
    "```{raw} html\n",
    "<div class='demo'>\n",
    "```\n",
    "\n",
    "```{raw} latex\n",
    "%%start demo%%\n",
    "```\n",
    "\n",
    "Here is a previously encountered matrix, which factors well."
   ]
  },
  {
   "cell_type": "code",
   "execution_count": 2,
   "id": "material-attack",
   "metadata": {},
   "outputs": [
    {
     "data": {
      "text/plain": [
       "4×4 LowerTriangular{Float64, Matrix{Float64}}:\n",
       "  1.0   ⋅     ⋅    ⋅ \n",
       " -2.0  1.0    ⋅    ⋅ \n",
       "  0.5  3.0   1.0   ⋅ \n",
       " -1.0  0.0  -2.0  1.0"
      ]
     },
     "execution_count": 2,
     "metadata": {},
     "output_type": "execute_result"
    }
   ],
   "source": [
    "A = [2 0 4 3 ; -4 5 -7 -10 ; 1 15 2 -4.5 ; -2 0 2 -13];\n",
    "L,U = FNC.lufact(A)\n",
    "L"
   ]
  },
  {
   "cell_type": "markdown",
   "id": "defensive-millennium",
   "metadata": {},
   "source": [
    "If we swap the second and fourth rows of $\\mathbf{A}$, the result is still nonsingular. However, the factorization now fails."
   ]
  },
  {
   "cell_type": "code",
   "execution_count": 3,
   "id": "powered-thesis",
   "metadata": {},
   "outputs": [
    {
     "data": {
      "text/plain": [
       "4×4 LowerTriangular{Float64, Matrix{Float64}}:\n",
       "  1.0     ⋅      ⋅    ⋅ \n",
       " -1.0  NaN       ⋅    ⋅ \n",
       "  0.5   Inf   NaN     ⋅ \n",
       " -2.0   Inf   NaN    1.0"
      ]
     },
     "execution_count": 3,
     "metadata": {},
     "output_type": "execute_result"
    }
   ],
   "source": [
    "A[[2,4],:] = A[[4,2],:]  \n",
    "L,U = FNC.lufact(A)\n",
    "L"
   ]
  },
  {
   "cell_type": "markdown",
   "id": "explicit-costume",
   "metadata": {},
   "source": [
    "```{index} Julia; NaN\n",
    "```\n",
    "\n",
    "The presence of `NaN` in the result indicates that some impossible operation was required. The source of the problem is easy to locate. We can find the first outer product in the factorization just fine:"
   ]
  },
  {
   "cell_type": "code",
   "execution_count": 4,
   "id": "biblical-district",
   "metadata": {},
   "outputs": [
    {
     "data": {
      "text/plain": [
       "4×4 Matrix{Float64}:\n",
       " 0.0   0.0  0.0    0.0\n",
       " 0.0   0.0  6.0  -10.0\n",
       " 0.0  15.0  0.0   -6.0\n",
       " 0.0   5.0  1.0   -4.0"
      ]
     },
     "execution_count": 4,
     "metadata": {},
     "output_type": "execute_result"
    }
   ],
   "source": [
    "U[1,:] = A[1,:]\n",
    "L[:,1] = A[:,1]/U[1,1]\n",
    "A -= L[:,1]*U[1,:]'"
   ]
  },
  {
   "cell_type": "markdown",
   "id": "adult-draft",
   "metadata": {},
   "source": [
    "The next step is `U[2,:]=A[2,:]`, which is also OK. But then we are supposed to divide by `U[2,2]`, which is zero. The algorithm cannot continue.\n",
    "\n",
    "```{raw} html\n",
    "</div>\n",
    "```\n",
    "\n",
    "```{raw} latex\n",
    "%%end demo%%\n",
    "```\n",
    "\n",
    "In {numref}`section-linsys-lu` we remarked that LU factorization is equivalent to Gaussian elimination with no row swaps. However, those swaps are necessary in situations like those encountered in {numref}`Demo {number} <demo-pivoting-fail>`, in order to avoid division by zero. We will find a modification of the outer product procedure that allows us to do the same thing.\n",
    "\n",
    "## Choosing a pivot\n",
    "\n",
    "```{index} ! pivoting\n",
    "```\n",
    "\n",
    "The diagonal element of $\\mathbf{U}$ that appears in the denominator of line 17 of {numref}`Function {number} <function-lufact>` is called the **pivot element** of its column. In order to avoid a zero pivot, we will use the largest available element in the column we are working on as the pivot. This technique is known as **row pivoting**.\n",
    "\n",
    "(rule-pivoting)=\n",
    "```{proof:myrule} Row pivoting\n",
    "When performing elimination in column $j$, choose as the pivot the element in column $j$ that is largest in absolute value. (In case of ties, choose the lowest row index.)\n",
    "```\n",
    "\n",
    "(demo-pivoting-fix)=\n",
    "```{proof:demo}\n",
    "```\n",
    "\n",
    "```{raw} html\n",
    "<div class='demo'>\n",
    "```\n",
    "\n",
    "```{raw} latex\n",
    "%%start demo%%\n",
    "```\n",
    "\n",
    "Here is the trouble-making matrix from {numref}`Demo {number} <demo-pivoting-fail>`."
   ]
  },
  {
   "cell_type": "code",
   "execution_count": 5,
   "id": "better-stable",
   "metadata": {},
   "outputs": [
    {
     "data": {
      "text/plain": [
       "4×4 Matrix{Float64}:\n",
       "  2.0   0.0   4.0    3.0\n",
       " -2.0   0.0   2.0  -13.0\n",
       "  1.0  15.0   2.0   -4.5\n",
       " -4.0   5.0  -7.0  -10.0"
      ]
     },
     "execution_count": 5,
     "metadata": {},
     "output_type": "execute_result"
    }
   ],
   "source": [
    "A₁ = [2 0 4 3 ; -2 0 2 -13; 1 15 2 -4.5 ; -4 5 -7 -10]"
   ]
  },
  {
   "cell_type": "markdown",
   "id": "recent-laugh",
   "metadata": {},
   "source": [
    "::::{panels}\n",
    ":column: col-7 left-side\n",
    ":card: border-0 shadow-none\n",
    "```{raw} latex\n",
    "\\begin{minipage}[t]{0.5\\textwidth}\n",
    "```\n",
    "We now find the largest candidate pivot in the first column. We don't care about sign, so we take absolute values before finding the max.\n",
    "\n",
    "```{raw} latex\n",
    "\\end{minipage}\\hfill\n",
    "```\n",
    "---\n",
    ":column: col-5 right-side\n",
    ":card: shadow-none comment\n",
    "```{raw} latex\n",
    "\\begin{minipage}[t]{0.4\\textwidth}\\begin{mdframed}[default]\\small\n",
    "```\n",
    "The `argmax` function returns the location of the largest element of a vector or matrix.\n",
    "```{raw} latex\n",
    "\\end{mdframed}\\end{minipage}\n",
    "```\n",
    "::::"
   ]
  },
  {
   "cell_type": "code",
   "execution_count": 6,
   "id": "distant-poland",
   "metadata": {},
   "outputs": [
    {
     "data": {
      "text/plain": [
       "4"
      ]
     },
     "execution_count": 6,
     "metadata": {},
     "output_type": "execute_result"
    }
   ],
   "source": [
    "i = argmax( abs.(A₁[:,1]) ) "
   ]
  },
  {
   "cell_type": "markdown",
   "id": "featured-microwave",
   "metadata": {},
   "source": [
    "This is the row of the matrix that we extract to put into $\\mathbf{U}$. That guarantees that the division used to find $\\boldsymbol{\\ell}_1$ will be valid."
   ]
  },
  {
   "cell_type": "code",
   "execution_count": 7,
   "id": "transparent-justice",
   "metadata": {},
   "outputs": [
    {
     "data": {
      "text/plain": [
       "4×4 Matrix{Float64}:\n",
       " 0.0   2.5   0.5   -2.0\n",
       " 0.0  -2.5   5.5   -8.0\n",
       " 0.0  16.25  0.25  -7.0\n",
       " 0.0   0.0   0.0    0.0"
      ]
     },
     "execution_count": 7,
     "metadata": {},
     "output_type": "execute_result"
    }
   ],
   "source": [
    "L,U = zeros(4,4),zeros(4,4)\n",
    "U[1,:] = A₁[i,:]\n",
    "L[:,1] = A₁[:,1]/U[1,1]\n",
    "A₂ = A₁ - L[:,1]*U[1,:]'"
   ]
  },
  {
   "cell_type": "markdown",
   "id": "faced-celebrity",
   "metadata": {},
   "source": [
    "Observe that $\\mathbf{A}_2$ has a new zero row and zero column, but the zero row is the fourth rather than the first. However, we forge on by using the largest possible pivot in column 2 for the next outer product."
   ]
  },
  {
   "cell_type": "code",
   "execution_count": 8,
   "id": "physical-sender",
   "metadata": {},
   "outputs": [
    {
     "name": "stdout",
     "output_type": "stream",
     "text": [
      "i = argmax(abs.(A₂[:, 2])) = 3\n"
     ]
    },
    {
     "data": {
      "text/plain": [
       "4×4 Matrix{Float64}:\n",
       " 0.0  0.0  0.461538  -0.923077\n",
       " 0.0  0.0  5.53846   -9.07692\n",
       " 0.0  0.0  0.0        0.0\n",
       " 0.0  0.0  0.0        0.0"
      ]
     },
     "execution_count": 8,
     "metadata": {},
     "output_type": "execute_result"
    }
   ],
   "source": [
    "@show i = argmax( abs.(A₂[:,2]) ) \n",
    "U[2,:] = A₂[i,:]\n",
    "L[:,2] = A₂[:,2]/U[2,2]\n",
    "A₃ = A₂ - L[:,2]*U[2,:]'"
   ]
  },
  {
   "cell_type": "markdown",
   "id": "ranking-clarity",
   "metadata": {},
   "source": [
    "Now we have zeroed out the third row as well as the second column. We can finish out the procedure."
   ]
  },
  {
   "cell_type": "code",
   "execution_count": 9,
   "id": "instant-keeping",
   "metadata": {},
   "outputs": [
    {
     "name": "stdout",
     "output_type": "stream",
     "text": [
      "i = argmax(abs.(A₃[:, 3])) = 2\n"
     ]
    },
    {
     "data": {
      "text/plain": [
       "4×4 Matrix{Float64}:\n",
       " 0.0  0.0  0.0  -0.166667\n",
       " 0.0  0.0  0.0   0.0\n",
       " 0.0  0.0  0.0   0.0\n",
       " 0.0  0.0  0.0   0.0"
      ]
     },
     "execution_count": 9,
     "metadata": {},
     "output_type": "execute_result"
    }
   ],
   "source": [
    "@show i = argmax( abs.(A₃[:,3]) ) \n",
    "U[3,:] = A₃[i,:]\n",
    "L[:,3] = A₃[:,3]/U[3,3]\n",
    "A₄ = A₃ - L[:,3]*U[3,:]'"
   ]
  },
  {
   "cell_type": "code",
   "execution_count": 10,
   "id": "retired-antigua",
   "metadata": {},
   "outputs": [
    {
     "name": "stdout",
     "output_type": "stream",
     "text": [
      "i = argmax(abs.(A₄[:, 4])) = 1\n"
     ]
    }
   ],
   "source": [
    "@show i = argmax( abs.(A₄[:,4]) ) \n",
    "U[4,:] = A₄[i,:]\n",
    "L[:,4] = A₄[:,4]/U[4,4];"
   ]
  },
  {
   "cell_type": "markdown",
   "id": "specific-convenience",
   "metadata": {},
   "source": [
    "We do have a factorization of the original matrix:"
   ]
  },
  {
   "cell_type": "code",
   "execution_count": 11,
   "id": "tested-small",
   "metadata": {},
   "outputs": [
    {
     "data": {
      "text/plain": [
       "4×4 Matrix{Float64}:\n",
       " 0.0  0.0  0.0  0.0\n",
       " 0.0  0.0  0.0  0.0\n",
       " 0.0  0.0  0.0  0.0\n",
       " 0.0  0.0  0.0  0.0"
      ]
     },
     "execution_count": 11,
     "metadata": {},
     "output_type": "execute_result"
    }
   ],
   "source": [
    "A₁ - L*U"
   ]
  },
  {
   "cell_type": "markdown",
   "id": "developed-differential",
   "metadata": {},
   "source": [
    "And $\\mathbf{U}$ has the required structure:"
   ]
  },
  {
   "cell_type": "code",
   "execution_count": 12,
   "id": "norman-creation",
   "metadata": {},
   "outputs": [
    {
     "data": {
      "text/plain": [
       "4×4 Matrix{Float64}:\n",
       " -4.0   5.0   -7.0      -10.0\n",
       "  0.0  16.25   0.25      -7.0\n",
       "  0.0   0.0    5.53846   -9.07692\n",
       "  0.0   0.0    0.0       -0.166667"
      ]
     },
     "execution_count": 12,
     "metadata": {},
     "output_type": "execute_result"
    }
   ],
   "source": [
    "U"
   ]
  },
  {
   "cell_type": "markdown",
   "id": "reflected-storage",
   "metadata": {},
   "source": [
    "However, the triangularity of $\\mathbf{L}$ has been broken."
   ]
  },
  {
   "cell_type": "code",
   "execution_count": 13,
   "id": "liquid-passion",
   "metadata": {},
   "outputs": [
    {
     "data": {
      "text/plain": [
       "4×4 Matrix{Float64}:\n",
       " -0.5    0.153846  0.0833333   1.0\n",
       "  0.5   -0.153846  1.0        -0.0\n",
       " -0.25   1.0       0.0        -0.0\n",
       "  1.0    0.0       0.0        -0.0"
      ]
     },
     "execution_count": 13,
     "metadata": {},
     "output_type": "execute_result"
    }
   ],
   "source": [
    "L"
   ]
  },
  {
   "cell_type": "markdown",
   "id": "narrative-bunch",
   "metadata": {},
   "source": [
    "```{raw} html\n",
    "</div>\n",
    "```\n",
    "\n",
    "```{raw} latex\n",
    "%%end demo%%\n",
    "```\n",
    "\n",
    "We will return to the loss of triangularity in $\\mathbf{L}$ momentarily. First, though, there is a question left to answer: what if at some stage, all the elements of the targeted column are zero—i. e., there are no available pivots? Fortunately that loose end ties up nicely, although a proof is a bit beyond our scope here.\n",
    "\n",
    "(theorem-pivot)=\n",
    "```{proof:theorem} Row pivoting\n",
    "The row-pivoted LU factorization runs to completion if and only if the original matrix is invertible.\n",
    "```\n",
    "\n",
    "<!-- \n",
    "```{proof:proof}\n",
    "The proof of the first statement is considered in [an exercise](problem-zerocolumn). The second statement follows from it, because the only way that the Gaussian elimination algorithm can have an undefined step is when all of the choices for a  pivot element are zero.\n",
    "``` \n",
    "-->\n",
    "\n",
    "A linear system with a singular matrix has either no solution or infinitely many solutions. Either way, a technique other than LU factorization is needed to handle them.\n",
    "\n",
    "## Permutations\n",
    "\n",
    "Even though the resulting $\\mathbf{L}$ in {numref}`Demo {number} <demo-pivoting-fix>` is no longer of unit lower triangular form, it is close. In fact, all that is needed is to reverse the order of its rows. \n",
    "\n",
    "(demo-pivoting-permute)=\n",
    "```{proof:demo}\n",
    "```\n",
    "\n",
    "```{raw} html\n",
    "<div class='demo'>\n",
    "```\n",
    "\n",
    "```{raw} latex\n",
    "%%start demo%%\n",
    "```\n",
    "\n",
    "Here again is the matrix from {numref}`Demo {number} <demo-pivoting-fix>`."
   ]
  },
  {
   "cell_type": "code",
   "execution_count": 14,
   "id": "legislative-finding",
   "metadata": {},
   "outputs": [
    {
     "data": {
      "text/plain": [
       "4×4 Matrix{Float64}:\n",
       "  2.0   0.0   4.0    3.0\n",
       " -2.0   0.0   2.0  -13.0\n",
       "  1.0  15.0   2.0   -4.5\n",
       " -4.0   5.0  -7.0  -10.0"
      ]
     },
     "execution_count": 14,
     "metadata": {},
     "output_type": "execute_result"
    }
   ],
   "source": [
    "A = [2 0 4 3 ; -2 0 2 -13; 1 15 2 -4.5 ; -4 5 -7 -10]"
   ]
  },
  {
   "cell_type": "markdown",
   "id": "polished-chosen",
   "metadata": {},
   "source": [
    "As the factorization proceeded, the pivots were selected from rows 4, 3, 2, and finally 1. If we were to put the rows of $\\mathbf{A}$ into that order, then the algorithm would run exactly like the plain LU factorization from {numref}`section-linsys-lu`."
   ]
  },
  {
   "cell_type": "code",
   "execution_count": 15,
   "id": "reserved-passing",
   "metadata": {},
   "outputs": [],
   "source": [
    "B = A[ [4,3,2,1], : ]\n",
    "L,U = FNC.lufact(B);"
   ]
  },
  {
   "cell_type": "markdown",
   "id": "authorized-improvement",
   "metadata": {},
   "source": [
    "We obtain the same $\\mathbf{U}$ as before:"
   ]
  },
  {
   "cell_type": "code",
   "execution_count": 16,
   "id": "universal-benjamin",
   "metadata": {},
   "outputs": [
    {
     "data": {
      "text/plain": [
       "4×4 UpperTriangular{Float64, Matrix{Float64}}:\n",
       " -4.0   5.0   -7.0      -10.0\n",
       "   ⋅   16.25   0.25      -7.0\n",
       "   ⋅     ⋅     5.53846   -9.07692\n",
       "   ⋅     ⋅      ⋅        -0.166667"
      ]
     },
     "execution_count": 16,
     "metadata": {},
     "output_type": "execute_result"
    }
   ],
   "source": [
    "U"
   ]
  },
  {
   "cell_type": "markdown",
   "id": "pleased-argument",
   "metadata": {},
   "source": [
    "And, $\\mathbf{L}$ has the same rows, but arranged into triangular order:"
   ]
  },
  {
   "cell_type": "code",
   "execution_count": 17,
   "id": "unexpected-exhaust",
   "metadata": {},
   "outputs": [
    {
     "data": {
      "text/plain": [
       "4×4 LowerTriangular{Float64, Matrix{Float64}}:\n",
       "  1.0     ⋅         ⋅          ⋅ \n",
       " -0.25   1.0        ⋅          ⋅ \n",
       "  0.5   -0.153846  1.0         ⋅ \n",
       " -0.5    0.153846  0.0833333  1.0"
      ]
     },
     "execution_count": 17,
     "metadata": {},
     "output_type": "execute_result"
    }
   ],
   "source": [
    "L"
   ]
  },
  {
   "cell_type": "markdown",
   "id": "metropolitan-request",
   "metadata": {},
   "source": [
    "```{raw} html\n",
    "</div>\n",
    "```\n",
    "\n",
    "```{raw} latex\n",
    "%%end demo%%\n",
    "```\n",
    "\n",
    "In principle, if the permutation of rows implied by the pivot locations is applied all at once to the original $\\mathbf{A}$, no further pivoting is needed. In practice, this permutation cannot be determined immediately from the original $\\mathbf{A}$; the only way to find it is to run the algorithm. Having obtained it at the end, though, we can use it to state a simple relationship. \n",
    "\n",
    "```{index} ! matrix factorization; pivoted LU, ! PLU factorization\n",
    "```\n",
    "\n",
    "::::{proof:definition} PLU factorization\n",
    "Given $n\\times n$ matrix $\\mathbf{A}$, the **PLU factorization** is a unit lower triangular $\\mathbf{L}$, an upper triangular $\\mathbf{U}$, and a permutation $i_1,\\ldots,i_n$ of the integers $1,\\ldots,n$, such that\n",
    "\n",
    "$$\\tilde{\\mathbf{A}} = \\mathbf{L}\\mathbf{U},$$\n",
    "\n",
    "where rows $1,\\ldots,n$ of $\\tilde{\\mathbf{A}}$ are rows $i_1,\\ldots,i_n$ of $\\mathbf{A}$.\n",
    "::::\n",
    "\n",
    "{numref}`Function {number} <function-plufact>` shows our implementation of PLU factorization.[^PLU]\n",
    "\n",
    "[^PLU]: Because unpivoted LU factorization is not useful, in practice the term *LU factorization* mostly refers to pivoted LU.\n",
    "\n",
    "(function-plufact)=\n",
    "````{proof:function} plufact\n",
    "**Row=pivoted LU factorization**\n",
    "```{code-block} julia\n",
    ":lineno-start: 1\n",
    "\"\"\"\n",
    "    plufact(A)\n",
    "\n",
    "Compute the PLU factorization of square matrix `A`, returning the\n",
    "triangular factors and a row permutation vector.\n",
    "\"\"\"\n",
    "function plufact(A)\n",
    "    n = size(A,1)\n",
    "    L = zeros(n,n)\n",
    "    U = zeros(n,n)\n",
    "    p = fill(0,n)\n",
    "    Aₖ = float(copy(A))\n",
    "\n",
    "    # Reduction by outer products\n",
    "    for k in 1:n-1\n",
    "        p[k] = argmax(abs.(Aₖ[:,k]))\n",
    "        U[k,:] = Aₖ[p[k],:]\n",
    "        L[:,k] = Aₖ[:,k]/U[k,k]\n",
    "        Aₖ -= L[:,k]*U[k,:]'\n",
    "    end\n",
    "    p[n] = argmax(abs.(Aₖ[:,n]))\n",
    "    U[n,n] = Aₖ[p[n],n]\n",
    "    L[:,n] = Aₖ[:,n]/U[n,n]\n",
    "    return LowerTriangular(L[p,:]),U,p\n",
    "end\n",
    "```\n",
    "````\n",
    "\n",
    "Ideally, the PLU factorization takes $\\sim \\frac{2}{3}n^3$ flops asymptotically, just like LU without pivoting. The implementation in {numref}`Function {number} <function-plufact>` does not achieve this optimal flop count, however. Like {numref}`Function {number} <function-lufact>`, it does unnecessary operations on structurally known zeros for the sake of being easier to understand.\n",
    "## Linear systems\n",
    "\n",
    "The output of {numref}`Function {number} <function-plufact>` is a factorization of a row-permuted $\\mathbf{A}$. Therefore, given a linear system $\\mathbf{A}\\mathbf{x}=\\mathbf{b}$, we have to permute $\\mathbf{b}$ the same way before applying forward and backward substitution. This is equivalent to changing the order of the equations in a linear system, which does not affect its solution.\n",
    "\n",
    "(demo-pivoting-usage)=\n",
    ":::{proof:demo}\n",
    ":::\n",
    "\n",
    "```{raw} html\n",
    "<div class='demo'>\n",
    "```\n",
    "\n",
    "```{raw} latex\n",
    "%%start demo%%\n",
    "```\n",
    "\n",
    "The third output of `plufact` is the permutation vector we need to apply to $\\mathbf{A}$."
   ]
  },
  {
   "cell_type": "code",
   "execution_count": 18,
   "id": "valued-orbit",
   "metadata": {},
   "outputs": [
    {
     "data": {
      "text/plain": [
       "4×4 Matrix{Float64}:\n",
       " 0.0  0.0  0.0  0.0\n",
       " 0.0  0.0  0.0  0.0\n",
       " 0.0  0.0  0.0  0.0\n",
       " 0.0  0.0  0.0  0.0"
      ]
     },
     "execution_count": 18,
     "metadata": {},
     "output_type": "execute_result"
    }
   ],
   "source": [
    "A = rand(1:20,4,4)\n",
    "L,U,p = FNC.plufact(A)\n",
    "A[p,:] - L*U   # should be ≈ 0"
   ]
  },
  {
   "cell_type": "markdown",
   "id": "becoming-guess",
   "metadata": {},
   "source": [
    "Given a vector $\\mathbf{b}$, we solve $\\mathbf{A}\\mathbf{x}=\\mathbf{b}$ by first permuting the entries of $\\mathbf{b}$ and then proceeding as before."
   ]
  },
  {
   "cell_type": "code",
   "execution_count": 19,
   "id": "isolated-essex",
   "metadata": {},
   "outputs": [
    {
     "data": {
      "text/plain": [
       "4-element Vector{Float64}:\n",
       " -0.20721085403271958\n",
       "  0.1355077444939779\n",
       "  0.005186089513872681\n",
       "  0.17364438756692277"
      ]
     },
     "execution_count": 19,
     "metadata": {},
     "output_type": "execute_result"
    }
   ],
   "source": [
    "b = rand(4)\n",
    "z = FNC.forwardsub(L,b[p])\n",
    "x = FNC.backsub(U,z)"
   ]
  },
  {
   "cell_type": "markdown",
   "id": "stuffed-constraint",
   "metadata": {},
   "source": [
    "A residual check is successful:"
   ]
  },
  {
   "cell_type": "code",
   "execution_count": 20,
   "id": "surprising-banks",
   "metadata": {},
   "outputs": [
    {
     "data": {
      "text/plain": [
       "4-element Vector{Float64}:\n",
       " 0.0\n",
       " 2.220446049250313e-16\n",
       " 4.440892098500626e-16\n",
       " 2.220446049250313e-16"
      ]
     },
     "execution_count": 20,
     "metadata": {},
     "output_type": "execute_result"
    }
   ],
   "source": [
    "b - A*x"
   ]
  },
  {
   "cell_type": "markdown",
   "id": "based-promise",
   "metadata": {},
   "source": [
    "```{raw} html\n",
    "</div>\n",
    "```\n",
    "\n",
    "```{raw} latex\n",
    "%%end demo%%\n",
    "```\n",
    "\n",
    "The `lu` function from the built-in package `LinearAlgebra` returns the same three outputs as {numref}`Function {number} <function-plufact>`. If you only request one output, it will be a factorization object that can be used with backslash. This is useful when you want to solve with multiple versions of $\\mathbf{b}$ but do the factorization only once.\n",
    "\n",
    "(demo-pivoting-builtin)=\n",
    ":::{proof:demo}\n",
    ":::\n",
    "\n",
    "```{raw} html\n",
    "<div class='demo'>\n",
    "```\n",
    "\n",
    "```{raw} latex\n",
    "%%start demo%%\n",
    "```\n",
    "\n",
    "With the syntax `A\\b`, the matrix `A` is PLU-factored, followed by two triangular solves."
   ]
  },
  {
   "cell_type": "code",
   "execution_count": 21,
   "id": "proof-playing",
   "metadata": {},
   "outputs": [
    {
     "data": {
      "text/plain": [
       "0.281286792"
      ]
     },
     "execution_count": 21,
     "metadata": {},
     "output_type": "execute_result"
    }
   ],
   "source": [
    "A = randn(500,500)   # 500x500 with normal random entries\n",
    "A\\rand(500)   # force compilation\n",
    "@elapsed for k=1:50; A\\rand(500); end"
   ]
  },
  {
   "cell_type": "markdown",
   "id": "destroyed-style",
   "metadata": {},
   "source": [
    "In {numref}`section-linsys-efficiency` we showed that the factorization is by far the most costly part of the solution process. A factorization object allows us to do that costly step only once per unique matrix."
   ]
  },
  {
   "cell_type": "code",
   "execution_count": 22,
   "id": "prescription-organization",
   "metadata": {},
   "outputs": [
    {
     "data": {
      "text/plain": [
       "0.002382333"
      ]
     },
     "execution_count": 22,
     "metadata": {},
     "output_type": "execute_result"
    }
   ],
   "source": [
    "factored = lu(A)   # 500x500 with normal random entries\n",
    "factored\\rand(500)   # force compilation\n",
    "@elapsed for k=1:50; factored\\rand(500); end"
   ]
  },
  {
   "cell_type": "markdown",
   "id": "flush-melissa",
   "metadata": {},
   "source": [
    "```{raw} html\n",
    "</div>\n",
    "```\n",
    "\n",
    "```{raw} latex\n",
    "%%end demo%%\n",
    "```\n",
    "\n",
    "## Stability\n",
    "\n",
    "```{index} stability\n",
    "```\n",
    "\n",
    "There is one detail of the row pivoting algorithm that might seem arbitrary: why choose the pivot of largest magnitude in a column, rather than, say, the uppermost nonzero in the column? The answer is numerical stability.\n",
    "\n",
    "(demo-pivoting-stable)=\n",
    ":::{proof:demo}\n",
    ":::\n",
    "\n",
    "```{raw} html\n",
    "<div class='demo'>\n",
    "```\n",
    "\n",
    "```{raw} latex\n",
    "%%start demo%%\n",
    "```\n",
    "\n",
    "Let\n",
    "\n",
    "```{math}\n",
    ":label: plu-stab-A\n",
    "\\mathbf{A} =\n",
    "  \\begin{bmatrix}\n",
    "    -\\epsilon & 1 \\\\ 1 & -1\n",
    "  \\end{bmatrix}.\n",
    "```\n",
    "\n",
    "If $\\epsilon=0$, LU factorization without pivoting fails for $\\mathbf{A}$. But if $\\epsilon\\neq 0$, we can go without pivoting, at least in principle.\n",
    "\n",
    "We construct a linear system for this matrix with $\\epsilon=10^{-12}$ and exact solution $[1,1]$:"
   ]
  },
  {
   "cell_type": "code",
   "execution_count": 23,
   "id": "pointed-briefs",
   "metadata": {},
   "outputs": [
    {
     "data": {
      "text/plain": [
       "2-element Vector{Float64}:\n",
       " 0.999999999999\n",
       " 0.0"
      ]
     },
     "execution_count": 23,
     "metadata": {},
     "output_type": "execute_result"
    }
   ],
   "source": [
    "ϵ = 1e-12\n",
    "A = [-ϵ 1;1 -1]\n",
    "b = A*[1,1]"
   ]
  },
  {
   "cell_type": "markdown",
   "id": "radical-praise",
   "metadata": {},
   "source": [
    "We can factor the matrix without pivoting and solve for $\\mathbf{x}$."
   ]
  },
  {
   "cell_type": "code",
   "execution_count": 24,
   "id": "cardiovascular-manor",
   "metadata": {},
   "outputs": [
    {
     "data": {
      "text/plain": [
       "2-element Vector{Float64}:\n",
       " 0.9999778782798785\n",
       " 1.0"
      ]
     },
     "execution_count": 24,
     "metadata": {},
     "output_type": "execute_result"
    }
   ],
   "source": [
    "L,U = FNC.lufact(A)\n",
    "x = FNC.backsub( U, FNC.forwardsub(L,b) )"
   ]
  },
  {
   "cell_type": "markdown",
   "id": "electrical-shareware",
   "metadata": {},
   "source": [
    "Note that we have obtained only about 5 accurate digits for $x_1$. We could make the result even more inaccurate by making $\\epsilon$ even smaller:"
   ]
  },
  {
   "cell_type": "code",
   "execution_count": 25,
   "id": "affiliated-multimedia",
   "metadata": {},
   "outputs": [
    {
     "data": {
      "text/plain": [
       "2-element Vector{Float64}:\n",
       " -0.0\n",
       "  1.0"
      ]
     },
     "execution_count": 25,
     "metadata": {},
     "output_type": "execute_result"
    }
   ],
   "source": [
    "ϵ = 1e-20; A = [-ϵ 1;1 -1]\n",
    "b = A*[1,1]\n",
    "L,U = FNC.lufact(A)\n",
    "x = FNC.backsub( U, FNC.forwardsub(L,b) )"
   ]
  },
  {
   "cell_type": "markdown",
   "id": "competitive-greece",
   "metadata": {},
   "source": [
    "This effect is not due to ill conditioning of the problem—a solution with PLU factorization works perfectly:"
   ]
  },
  {
   "cell_type": "code",
   "execution_count": 26,
   "id": "three-bhutan",
   "metadata": {},
   "outputs": [
    {
     "data": {
      "text/plain": [
       "2-element Vector{Float64}:\n",
       " 1.0\n",
       " 1.0"
      ]
     },
     "execution_count": 26,
     "metadata": {},
     "output_type": "execute_result"
    }
   ],
   "source": [
    "A\\b"
   ]
  },
  {
   "cell_type": "markdown",
   "id": "continued-finding",
   "metadata": {},
   "source": [
    "```{raw} html\n",
    "</div>\n",
    "```\n",
    "\n",
    "```{raw} latex\n",
    "%%end demo%%\n",
    "```\n",
    "\n",
    "The factors of this $\\mathbf{A}$ without pivoting are found to be\n",
    "\n",
    "```{math}\n",
    ":label: plu-stab-LU\n",
    "  \\mathbf{L} = \n",
    "  \\begin{bmatrix}\n",
    "    1 & 0 \\\\ -\\epsilon^{-1} & 1 \n",
    "  \\end{bmatrix}, \\qquad \n",
    "  \\mathbf{U} = \n",
    "  \\begin{bmatrix}\n",
    "    -\\epsilon & 1 \\\\ 0 & \\epsilon^{-1}-1 \n",
    "  \\end{bmatrix}.\n",
    "```\n",
    "\n",
    "For reasons we will quantify in {numref}`section-linsys-condition-number`, the solution of $\\mathbf{A}\\mathbf{x}=\\mathbf{b}$ is well-conditioned, but the problems of solving $\\mathbf{L}\\mathbf{z}=\\mathbf{b}$ and $\\mathbf{U}\\mathbf{x}=\\mathbf{z}$ have condition numbers essentially $1/\\epsilon^2$ each. Thus, for small $\\epsilon$, solution of the original linear system by unpivoted LU factorization is highly unstable. \n",
    "\n",
    "Somewhat surprisingly, solving $\\mathbf{A}\\mathbf{x}=\\mathbf{b}$ via PLU factorization is technically also unstable. In fact, examples of unstable solutions are well-known, but, they have been extraordinarily rare in practice. While there is a lot of evidence and some reasoning about why this is the case, the situation is not completely understood. Yet PLU factorization remains the algorithm of choice for general linear systems.\n",
    "\n",
    "## Exercises\n",
    "\n",
    "1. ✍ Perform by hand the pivoted LU factorization of each matrix.\n",
    "    \n",
    "    **(a)** $\\quad \\displaystyle \\begin{bmatrix}\n",
    "    2 & 3 & 4 \\\\\n",
    "    4 & 5 & 10 \\\\\n",
    "    4 & 8 & 2\n",
    "    \\end{bmatrix},\\qquad$\n",
    "    **(b)** $\\quad \\displaystyle \\begin{bmatrix}\n",
    "    1 & 4 & 5 & -5 \\\\\n",
    "    -1 & 0 & -1 & -5 \\\\\n",
    "    1 & 3 & -1 & 2 \\\\\n",
    "    1 & -1 & 5 & -1 \n",
    "    \\end{bmatrix}$.\n",
    "\n",
    "2. ✍ Let $\\mathbf{A}$ be a square matrix and $\\mathbf{b}$ be a column vector of compatible length. Here is correct Julia code to solve $\\mathbf{A}\\mathbf{x}=\\mathbf{b}$:\n",
    "\n",
    "    ``` julia\n",
    "    L,U,p = lu(A)\n",
    "    x = U \\ (L\\b[p])\n",
    "    ```\n",
    "\n",
    "    Suppose instead you replace the last line above with\n",
    "\n",
    "    ``` julia\n",
    "    x = U \\ L \\ b[p]\n",
    "    ```\n",
    "\n",
    "    Mathematically in terms of $\\mathbf{L}$, $\\mathbf{U}$, and $\\mathbf{p}$, what vector is found?\n",
    "\n",
    "3. ✍ Suppose that `A` is a $4\\times 6$ matrix in Julia and you define\n",
    "\n",
    "    ``` julia\n",
    "    B = A[end:-1:1,end:-1:1]\n",
    "    ```\n",
    "\n",
    "    Show that $\\mathbf{B} = \\mathbf{P} \\mathbf{A} \\mathbf{Q}$ for certain matrices $\\mathbf{P}$ and $\\mathbf{Q}$.\n",
    "\n",
    "    (problem-perminverse)=\n",
    "4. ✍ An $n\\times n$ *permutation matrix* $\\mathbf{P}$ is a reordering of the rows of an identity matrix such that $\\mathbf{P} \\mathbf{A}$  has the effect of moving rows $1,2,\\ldots,n$ of $\\mathbf{A}$ to new positions $i_1,i_2,\\ldots,i_n$. Then $\\mathbf{P}$ can be expressed as\n",
    "  \n",
    "    ```{math}\n",
    "    \\mathbf{P} = \\mathbf{e}_{i_1}\\mathbf{e}_1^T + \\mathbf{e}_{i_2}\\mathbf{e}_2^T + \\cdots + \\mathbf{e}_{i_n}\\mathbf{e}_n^T.\n",
    "    ```\n",
    "\n",
    "    **(a)** For the case $n=4$ and $i_1=3$, $i_2=2$, $i_3=4$, $i_4=1$, write out separately, as matrices, all four of the terms in the sum. Then add them together to find $\\mathbf{P}$.\n",
    "\n",
    "    **(b)** Use the formula in the general case to show that $\\mathbf{P}^{-1}=\\mathbf{P}^T$."
   ]
  }
 ],
 "metadata": {
  "jupytext": {
   "cell_metadata_filter": "-all",
   "formats": "md:myst",
   "text_representation": {
    "extension": ".md",
    "format_name": "myst",
    "format_version": 0.13,
    "jupytext_version": "1.10.3"
   }
  },
  "kernelspec": {
   "display_name": "Julia 1.6.1",
   "language": "julia",
   "name": "julia-fast"
  },
  "language_info": {
   "file_extension": ".jl",
   "mimetype": "application/julia",
   "name": "julia",
   "version": "1.6.1"
  },
  "source_map": [
   15,
   18,
   42,
   46,
   50,
   54,
   61,
   65,
   105,
   107,
   133,
   135,
   139,
   144,
   148,
   153,
   157,
   164,
   168,
   172,
   174,
   178,
   180,
   184,
   186,
   229,
   231,
   235,
   238,
   242,
   244,
   248,
   250,
   329,
   333,
   337,
   341,
   345,
   347,
   373,
   377,
   381,
   385,
   428,
   432,
   436,
   439,
   443,
   448,
   452,
   454
  ]
 },
 "nbformat": 4,
 "nbformat_minor": 5
}