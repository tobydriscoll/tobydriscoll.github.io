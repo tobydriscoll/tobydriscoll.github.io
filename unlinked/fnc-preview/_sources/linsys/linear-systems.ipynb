{
 "cells": [
  {
   "cell_type": "code",
   "execution_count": 1,
   "id": "dependent-endorsement",
   "metadata": {
    "tags": [
     "remove-cell"
    ]
   },
   "outputs": [],
   "source": [
    "include(\"../init-notebook.jl\")"
   ]
  },
  {
   "cell_type": "markdown",
   "id": "completed-gentleman",
   "metadata": {},
   "source": [
    "(section-linsys-linear-systems)=\n",
    "# Linear systems\n",
    "\n",
    "We now attend to the central problem of this chapter: Given a square, $n\\times n$ matrix $\\mathbf{A}$ and an $n$-vector $\\mathbf{b}$, find an $n$-vector $\\mathbf{x}$ such that $\\mathbf{A}\\mathbf{x}=\\mathbf{b}$. Writing out these equations, we obtain\n",
    "\n",
    "```{math}\n",
    "\\begin{split}\n",
    "  A_{11}x_1 + A_{12}x_2 + \\cdots + A_{1n}x_n &= b_1 \\\\\n",
    "  A_{21}x_1 + A_{22}x_2 + \\cdots + A_{2n}x_n &= b_2 \\\\\n",
    "  \\vdots  \\\\\n",
    "  A_{n1}x_1 + A_{n2}x_2 + \\cdots + A_{nn}x_n &= b_n.\n",
    "\\end{split}\n",
    "```\n",
    "\n",
    "```{index} matrix inverse\n",
    "```\n",
    "\n",
    "If $\\mathbf{A}$ is invertible, then the mathematical expression of the solution is $\\mathbf{x}=\\mathbf{A}^{-1}\\mathbf{b}$, because\n",
    "\n",
    "```{math}\n",
    "\\begin{split}\n",
    "  \\mathbf{A}^{-1}\\mathbf{b} = \\mathbf{A}^{-1} (\\mathbf{A} \\mathbf{x}) = (\\mathbf{A}^{-1}\\mathbf{A}) \\mathbf{x} = \\mathbf{I} \\mathbf{x}\n",
    "  = \\mathbf{x}.\n",
    "\\end{split}\n",
    "```\n",
    "\n",
    "When $\\mathbf{A}$ is singular, then $\\mathbf{A}\\mathbf{x}=\\mathbf{b}$ may have no solution or\n",
    "infinitely many solutions.\n",
    "\n",
    "(example-singmatrix)=\n",
    "````{proof:example}\n",
    "If we define\n",
    "\n",
    "```{math}\n",
    "\\mathbf{S} =  \\begin{bmatrix}\n",
    "\t0 & 1\\\\0 & 0\n",
    "\\end{bmatrix},\n",
    "```\n",
    "\n",
    "then it is easy to check that for any real value of $\\alpha$ we have\n",
    "\n",
    "```{math}\n",
    "\\mathbf{S}\n",
    "\\begin{bmatrix}\n",
    "\t\\alpha \\\\ 1\n",
    "\\end{bmatrix}\n",
    "=\n",
    "\\begin{bmatrix}\n",
    "\t1 \\\\ 0\n",
    "\\end{bmatrix}.\n",
    "```\n",
    "\n",
    "Hence the linear system $\\mathbf{S}\\mathbf{x}=\\mathbf{b}$ with $\\mathbf{b}=\\begin{bmatrix} 1\\\\0\\end{bmatrix}$ has infinitely many solutions. For most other choices of $\\mathbf{b}$ the system has no solution.\n",
    "````\n",
    "\n",
    "## Don't use the inverse\n",
    "\n",
    "Matrix inverses are indispensable for mathematical discussion and derivations. However, as you may remember from a linear algebra course, they are not trivial to compute from the entries of the original matrix. Julia does have a command `inv` that finds the inverse of a matrix, but it is almost never the best means to solving a problem. In particular, for solving a linear system of equations, finding the inverse is slower than the standard algorithm. \n",
    "\n",
    "\n",
    "```{index} Julia; \\\\\n",
    "```\n",
    "\n",
    "As demonstrated in {numref}`Demo %s <demo-interp-vander>`, a linear system of equations can be solved by a `backslash`  (the `\\` symbol, not to be confused with the slash `/` used in web addresses).\n",
    "\n",
    "(demo-systems-backslash)=\n",
    "```{proof:demo}\n",
    "```\n",
    "\n",
    "```{raw} html\n",
    "<div class='demo'>\n",
    "```\n",
    "\n",
    "```{raw} latex\n",
    "%%start demo%%\n",
    "```\n",
    "\n",
    "For a square matrix $A$, the command `A\\b` is mathematically equivalent to $A^{-1}b$."
   ]
  },
  {
   "cell_type": "code",
   "execution_count": 2,
   "id": "prime-phone",
   "metadata": {},
   "outputs": [
    {
     "data": {
      "text/plain": [
       "3×3 Matrix{Int64}:\n",
       "  1   0  -1\n",
       "  2   2   1\n",
       " -1  -3   0"
      ]
     },
     "execution_count": 2,
     "metadata": {},
     "output_type": "execute_result"
    }
   ],
   "source": [
    "A = [1 0 -1; 2 2 1; -1 -3 0]"
   ]
  },
  {
   "cell_type": "code",
   "execution_count": 3,
   "id": "spectacular-closer",
   "metadata": {},
   "outputs": [
    {
     "data": {
      "text/plain": [
       "3-element Vector{Int64}:\n",
       " 1\n",
       " 2\n",
       " 3"
      ]
     },
     "execution_count": 3,
     "metadata": {},
     "output_type": "execute_result"
    }
   ],
   "source": [
    "b = [1,2,3]"
   ]
  },
  {
   "cell_type": "code",
   "execution_count": 4,
   "id": "needed-mentor",
   "metadata": {},
   "outputs": [
    {
     "data": {
      "text/plain": [
       "3-element Vector{Float64}:\n",
       "  2.1428571428571432\n",
       " -1.7142857142857144\n",
       "  1.1428571428571428"
      ]
     },
     "execution_count": 4,
     "metadata": {},
     "output_type": "execute_result"
    }
   ],
   "source": [
    "x = A\\b"
   ]
  },
  {
   "cell_type": "markdown",
   "id": "opposed-barcelona",
   "metadata": {},
   "source": [
    "```{index} residual\n",
    "```\n",
    "\n",
    "One way to check the answer is to compute a quantity known as the **residual**. It is (ideally) close to machine precision (relative to the elements in the solution)."
   ]
  },
  {
   "cell_type": "code",
   "execution_count": 5,
   "id": "boxed-bracelet",
   "metadata": {},
   "outputs": [
    {
     "data": {
      "text/plain": [
       "3-element Vector{Float64}:\n",
       " -4.440892098500626e-16\n",
       " -4.440892098500626e-16\n",
       "  0.0"
      ]
     },
     "execution_count": 5,
     "metadata": {},
     "output_type": "execute_result"
    }
   ],
   "source": [
    "residual = b - A*x"
   ]
  },
  {
   "cell_type": "markdown",
   "id": "settled-programming",
   "metadata": {},
   "source": [
    "If the matrix $\\mathbf{A}$ is singular, you may get an error."
   ]
  },
  {
   "cell_type": "code",
   "execution_count": 6,
   "id": "quality-crisis",
   "metadata": {},
   "outputs": [
    {
     "ename": "LoadError",
     "evalue": "LAPACKException(1)",
     "output_type": "error",
     "traceback": [
      "LAPACKException(1)",
      "",
      "Stacktrace:",
      " [1] chklapackerror(ret::Int64)",
      "   @ LinearAlgebra.LAPACK /Users/julia/buildbot/worker/package_macos64/build/usr/share/julia/stdlib/v1.6/LinearAlgebra/src/lapack.jl:38",
      " [2] trtrs!(uplo::Char, trans::Char, diag::Char, A::Matrix{Float64}, B::Vector{Float64})",
      "   @ LinearAlgebra.LAPACK /Users/julia/buildbot/worker/package_macos64/build/usr/share/julia/stdlib/v1.6/LinearAlgebra/src/lapack.jl:3426",
      " [3] ldiv!",
      "   @ /Users/julia/buildbot/worker/package_macos64/build/usr/share/julia/stdlib/v1.6/LinearAlgebra/src/triangular.jl:739 [inlined]",
      " [4] \\(A::UpperTriangular{Int64, Matrix{Int64}}, B::Vector{Int64})",
      "   @ LinearAlgebra /Users/julia/buildbot/worker/package_macos64/build/usr/share/julia/stdlib/v1.6/LinearAlgebra/src/triangular.jl:1673",
      " [5] \\(A::Matrix{Int64}, B::Vector{Int64})",
      "   @ LinearAlgebra /Users/julia/buildbot/worker/package_macos64/build/usr/share/julia/stdlib/v1.6/LinearAlgebra/src/generic.jl:1134",
      " [6] top-level scope",
      "   @ In[6]:3",
      " [7] eval",
      "   @ ./boot.jl:360 [inlined]",
      " [8] include_string(mapexpr::typeof(REPL.softscope), mod::Module, code::String, filename::String)",
      "   @ Base ./loading.jl:1094"
     ]
    }
   ],
   "source": [
    "A = [0 1; 0 0]\n",
    "b = [1,-1]\n",
    "x = A\\b"
   ]
  },
  {
   "cell_type": "markdown",
   "id": "twenty-watson",
   "metadata": {},
   "source": [
    "::::{panels}\n",
    ":column: col-7 left-side\n",
    ":card: border-0 shadow-none\n",
    "```{raw} latex\n",
    "\\begin{minipage}[t]{0.5\\textwidth}\n",
    "```\n",
    "The error message here is admittedly cryptic. In this case we can check that the rank of $\\mathbf{A}$ is less than its number of columns, indicating singularity.\n",
    "\n",
    "```{raw} latex\n",
    "\\end{minipage}\\hfill\n",
    "```\n",
    "---\n",
    ":column: col-5 right-side\n",
    ":card: shadow-none comment\n",
    "```{raw} latex\n",
    "\\begin{minipage}[t]{0.4\\textwidth}\\begin{mdframed}[default]\\small\n",
    "```\n",
    "The function `rank` computes the rank of a matrix. However, it is numerically unstable for matrices that are nearly singular, in a sense to be defined in a later section.\n",
    "```{raw} latex\n",
    "\\end{mdframed}\\end{minipage}\n",
    "```\n",
    "::::"
   ]
  },
  {
   "cell_type": "code",
   "execution_count": 7,
   "id": "productive-venture",
   "metadata": {},
   "outputs": [
    {
     "data": {
      "text/plain": [
       "1"
      ]
     },
     "execution_count": 7,
     "metadata": {},
     "output_type": "execute_result"
    }
   ],
   "source": [
    "rank(A)"
   ]
  },
  {
   "cell_type": "markdown",
   "id": "varying-maria",
   "metadata": {},
   "source": [
    "A linear system with a singular matrix might have no solution or infinitely many solutions, but in either case, backslash will fail. Moreover, detecting singularity is a lot like checking whether two floating-point numbers are *exactly* equal: because of roundoff, it could be missed. In {numref}`section-linsys-condition-number` we'll find a robust way to fully describe the situation.\n",
    "\n",
    "```{raw} html\n",
    "</div>\n",
    "```\n",
    "\n",
    "```{raw} latex\n",
    "%%end demo%%\n",
    "```\n",
    "\n",
    "## Triangular systems\n",
    "\n",
    "```{index} triangular matrix\n",
    "```\n",
    "\n",
    "The solution process is especially easy to demonstrate for a system with a **triangular matrix**. For example, consider the lower triangular system\n",
    "\n",
    "```{math}\n",
    "  \\begin{bmatrix}\n",
    "    4 & 0 & 0 & 0 \\\\\n",
    "    3 & -1 & 0 & 0 \\\\\n",
    "    -1 & 0 & 3 & 0 \\\\\n",
    "    1 & -1 & -1 & 2\n",
    "  \\end{bmatrix} \\mathbf{x} =\n",
    "  \\begin{bmatrix}\n",
    "    8 \\\\ 5 \\\\ 0 \\\\ 1\n",
    "  \\end{bmatrix}.\n",
    "```\n",
    "\n",
    "The first row of this system states simply that $4x_1=8$, which is easily solved as $x_1=8/4=2$. Now, the second row states that $3x_1-x_2=5$. As $x_1$ is already known, it can be replaced to find that $x_2 = -(5-3\\cdot 2)=1$. Similarly, the third row gives $x_3=(0+1\\cdot 2)/3 = 2/3$, and the last row yields $x_4=(1-1\\cdot 2 + 1\\cdot 1 + 1\\cdot 2/3)/2 = 1/3$. Hence the solution is\n",
    "\n",
    "```{math}\n",
    "  \\mathbf{x} =\n",
    "  \\begin{bmatrix} 2 \\\\ 1 \\\\ 2/3 \\\\ 1/3\n",
    "  \\end{bmatrix}.\n",
    "```\n",
    "\n",
    "```{index} forward substitution\n",
    "```\n",
    "\n",
    "The process just described is called **forward substitution**. In the $4\\times 4$ lower triangular case of $\\mathbf{L}\\mathbf{x}=\\mathbf{b}$ it leads to the formulas\n",
    "\n",
    "```{math}\n",
    ":label: forwardsub\n",
    "\\begin{split}\n",
    "  x_1 &= \\frac{b_1}{L_{11}} \\\\\n",
    "  x_2 &= \\frac{b_2 - L_{21}x_1}{L_{22}} \\\\\n",
    "  x_3 &= \\frac{b_3 - L_{31}x_1 - L_{32}x_2}{L_{33}} \\\\\n",
    "  x_4 &= \\frac{b_4 - L_{41}x_1 - L_{42}x_2 - L_{43}x_3}{L_{44}}.\n",
    "\\end{split}\n",
    "```\n",
    "\n",
    "```{index} backward substitution\n",
    "```\n",
    "\n",
    "For upper triangular systems $\\mathbf{U}\\mathbf{x}=\\mathbf{b}$ an analogous process of **backward substitution** begins by solving for the last component $x_n=b_n/U_{nn}$ and working backward. For the $4\\times 4$ case we have\n",
    "\n",
    "```{math}\n",
    "  \\begin{bmatrix}\n",
    "    U_{11} & U_{12} & U_{13} & U_{14} \\\\\n",
    "    0 & U_{22} & U_{23} & U_{24} \\\\\n",
    "    0 & 0 & U_{33} & U_{34} \\\\\n",
    "    0 & 0 & 0 & U_{44}\n",
    "  \\end{bmatrix} \\mathbf{x} =\n",
    "  \\begin{bmatrix}\n",
    "    b_1 \\\\ b_2 \\\\ b_3 \\\\ b_4\n",
    "  \\end{bmatrix}.\n",
    "```\n",
    "\n",
    "Solving the system backward, starting with $x_4$ first and then proceeding in descending order, gives\n",
    "\n",
    "```{math}\n",
    "\\begin{split}\n",
    "  x_4 &= \\frac{b_4}{U_{44}} \\\\\n",
    "  x_3 &= \\frac{b_3 - U_{34}x_4}{U_{33}} \\\\\n",
    "  x_2 &= \\frac{b_2 - U_{23}x_3 - U_{24}x_4}{U_{22}} \\\\\n",
    "  x_1 &= \\frac{b_1 - U_{12}x_2 - U_{13}x_3 - U_{14}x_4}{U_{11}}.\n",
    "\\end{split}\n",
    "```\n",
    "\n",
    "It should be clear that forward or backward substitution fails if, and only if, one of the diagonal entries of the system matrix is zero. We have essentially proved the following theorem.\n",
    "\n",
    "\n",
    "(theorem-triangle-invert)=\n",
    "```{proof:theorem} Triangular singularity\n",
    "\n",
    "A triangular matrix is singular if and only if at least one of its diagonal elements is zero.\n",
    "```\n",
    "\n",
    "## Implementation\n",
    "\n",
    "Consider how to implement the sequential process implied by equation {eq}`forwardsub`. It seems clear that we want to loop through the elements of $\\mathbf{x}$ in order. Within each iteration of that loop, we have an expression whose length depends on the iteration number. One way we could do this would be with a nested loop:\n",
    "\n",
    "```julia\n",
    "for i in 1:4\n",
    "    s = 0\n",
    "    for j in 1:i-1\n",
    "        s += L[i,j]*x[j]\n",
    "    end\n",
    "    x[i] = (b[i]-s) / L[i,i]\n",
    "end\n",
    "```\n",
    "\n",
    "```{index} Julia; sum\n",
    "```\n",
    "\n",
    "A briefer version of the inner loop over `j` is the expression\n",
    "\n",
    "``` julia\n",
    "s = sum( L[i,j]*x[j] for j in 1:i-1 )\n",
    "```\n",
    "\n",
    "However, when `i` equals 1, the range `1:i-1` is empty and the sum causes an error. To avoid this we can handle this case before the `i` loop begins, and start that loop at 2. This is the approach taken in {numref}`Function {number} <function-forwardsub>`.\n",
    "\n",
    "(function-forwardsub)=\n",
    "\n",
    "````{proof:function} forwardsub\n",
    "**Forward substitution to solve a lower-triangular linear system**\n",
    "\n",
    "```{code-block} julia1\n",
    ":lineno-start: 1\n",
    "\"\"\"\n",
    "    forwardsub(L,b)\n",
    "\n",
    "Solve the lower-triangular linear system with matrix `L` and\n",
    "right-hand side vector `b`.\n",
    "\"\"\"\n",
    "function forwardsub(L,b)\n",
    "    n = size(L,1)\n",
    "    x = zeros(n)\n",
    "    x[1] = b[1]/L[1,1]\n",
    "    for i in 2:n\n",
    "        s = sum( L[i,j]*x[j] for j in 1:i-1 )\n",
    "        x[i] = ( b[i] - s ) / L[i,i]\n",
    "    end\n",
    "    return x\n",
    "end\n",
    "```\n",
    "````\n",
    "\n",
    "The implementation of backward substitution is much like forward substitution and is given in {numref}`Function {number} <function-backsub>`.\n",
    "\n",
    "(function-backsub)=\n",
    "````{proof:function} backsub\n",
    "\n",
    "**Backward substitution to solve an upper-triangular linear system**\n",
    "\n",
    "```{code-block} julia1\n",
    ":lineno-start: 1\n",
    "\"\"\"\n",
    "    backsub(U,b)\n",
    "\n",
    "Solve the upper-triangular linear system with matrix `U` and\n",
    "right-hand side vector `b`.\n",
    "\"\"\"\n",
    "function backsub(U,b)\n",
    "    n = size(U,1)\n",
    "    x = zeros(n)\n",
    "    x[n] = b[n]/U[n,n]\n",
    "    for i in n-1:-1:1\n",
    "        s = sum( U[i,j]*x[j] for j in i+1:n )\n",
    "        x[i] = ( b[i] - s ) / U[i,i]\n",
    "    end\n",
    "    return x\n",
    "end\n",
    "```\n",
    "````\n",
    "\n",
    "(demo-systems-triangular)=\n",
    "```{proof:demo}\n",
    "```\n",
    "\n",
    "```{raw} html\n",
    "<div class='demo'>\n",
    "```\n",
    "\n",
    "```{raw} latex\n",
    "%%start demo%%\n",
    "```\n",
    "\n",
    "```{index} ! Julia; tril, ! Julia; triu\n",
    "```\n",
    "\n",
    "::::{panels}\n",
    ":column: col-7 left-side\n",
    ":card: border-0 shadow-none\n",
    "```{raw} latex\n",
    "\\begin{minipage}[t]{0.5\\textwidth}\n",
    "```\n",
    "It's easy to get just the lower triangular part of any matrix using the `tril` function.\n",
    "\n",
    "```{raw} latex\n",
    "\\end{minipage}\\hfill\n",
    "```\n",
    "---\n",
    ":column: col-5 right-side\n",
    ":card: shadow-none comment\n",
    "```{raw} latex\n",
    "\\begin{minipage}[t]{0.4\\textwidth}\\begin{mdframed}[default]\\small\n",
    "```\n",
    "Use `tril` to return a matrix that zeros out everything above the main diagonal. The `triu` function zeros out below the diagonal.\n",
    "```{raw} latex\n",
    "\\end{mdframed}\\end{minipage}\n",
    "```\n",
    "::::"
   ]
  },
  {
   "cell_type": "code",
   "execution_count": 8,
   "id": "brief-probe",
   "metadata": {},
   "outputs": [
    {
     "data": {
      "text/plain": [
       "5×5 Matrix{Float64}:\n",
       " 6.0  0.0  0.0  0.0  0.0\n",
       " 1.0  3.0  0.0  0.0  0.0\n",
       " 8.0  5.0  5.0  0.0  0.0\n",
       " 9.0  7.0  1.0  4.0  0.0\n",
       " 4.0  5.0  1.0  8.0  4.0"
      ]
     },
     "execution_count": 8,
     "metadata": {},
     "output_type": "execute_result"
    }
   ],
   "source": [
    "A = rand(1.:9.,5,5)\n",
    "L = tril(A)"
   ]
  },
  {
   "cell_type": "markdown",
   "id": "violent-allocation",
   "metadata": {},
   "source": [
    "We'll set up and solve a linear system with this matrix."
   ]
  },
  {
   "cell_type": "code",
   "execution_count": 9,
   "id": "involved-birth",
   "metadata": {},
   "outputs": [
    {
     "data": {
      "text/plain": [
       "5-element Vector{Float64}:\n",
       "  0.16666666666666666\n",
       "  0.2777777777777778\n",
       " -0.34444444444444444\n",
       " -0.525\n",
       "  0.8722222222222223"
      ]
     },
     "execution_count": 9,
     "metadata": {},
     "output_type": "execute_result"
    }
   ],
   "source": [
    "b = ones(5)\n",
    "x = FNC.forwardsub(L,b)"
   ]
  },
  {
   "cell_type": "markdown",
   "id": "hungarian-riverside",
   "metadata": {},
   "source": [
    "It's not clear how accurate this answer is. However, the residual, while not zero, is comparable to $\\macheps$ in size, as we would hope."
   ]
  },
  {
   "cell_type": "code",
   "execution_count": 10,
   "id": "short-worry",
   "metadata": {},
   "outputs": [
    {
     "data": {
      "text/plain": [
       "5-element Vector{Float64}:\n",
       " 0.0\n",
       " 0.0\n",
       " 0.0\n",
       " 0.0\n",
       " 0.0"
      ]
     },
     "execution_count": 10,
     "metadata": {},
     "output_type": "execute_result"
    }
   ],
   "source": [
    "b - L*x"
   ]
  },
  {
   "cell_type": "markdown",
   "id": "pleased-canon",
   "metadata": {},
   "source": [
    "```{index} ! Julia; Pair, Julia; diagm\n",
    "```\n",
    "\n",
    "::::{panels}\n",
    ":column: col-7 left-side\n",
    ":card: border-0 shadow-none\n",
    "```{raw} latex\n",
    "\\begin{minipage}[t]{0.5\\textwidth}\n",
    "```\n",
    "Next we'll engineer a problem to which we know the exact answer. Use `\\alpha` <kbd>Tab</kbd> and `\\beta` <kbd>Tab</kbd> to get the Greek letters.\n",
    "\n",
    "```{raw} latex\n",
    "\\end{minipage}\\hfill\n",
    "```\n",
    "---\n",
    ":column: col-5 right-side\n",
    ":card: shadow-none comment\n",
    "```{raw} latex\n",
    "\\begin{minipage}[t]{0.4\\textwidth}\\begin{mdframed}[default]\\small\n",
    "```\n",
    "The notation `0=>ones(5)` creates a `Pair`. In `diagm`, pairs indicate the position of a diagonal and the elements that are to be placed on it.\n",
    "```{raw} latex\n",
    "\\end{mdframed}\\end{minipage}\n",
    "```\n",
    "::::"
   ]
  },
  {
   "cell_type": "code",
   "execution_count": 11,
   "id": "regulated-residence",
   "metadata": {},
   "outputs": [
    {
     "data": {
      "text/plain": [
       "5×5 Matrix{Float64}:\n",
       " 1.0  -1.0   0.0  -1.9   2.2\n",
       " 0.0   1.0  -1.0   0.0   0.0\n",
       " 0.0   0.0   1.0  -1.0   0.0\n",
       " 0.0   0.0   0.0   1.0  -1.0\n",
       " 0.0   0.0   0.0   0.0   1.0"
      ]
     },
     "execution_count": 11,
     "metadata": {},
     "output_type": "execute_result"
    }
   ],
   "source": [
    "α = 0.3;\n",
    "β = 2.2;\n",
    "U = diagm( 0=>ones(5), 1=>[-1,-1,-1,-1] )\n",
    "U[1,[4,5]] = [ α-β, β ]\n",
    "U"
   ]
  },
  {
   "cell_type": "code",
   "execution_count": 12,
   "id": "accompanied-naples",
   "metadata": {},
   "outputs": [
    {
     "data": {
      "text/plain": [
       "5-element Vector{Float64}:\n",
       " 0.3\n",
       " 0.0\n",
       " 0.0\n",
       " 0.0\n",
       " 1.0"
      ]
     },
     "execution_count": 12,
     "metadata": {},
     "output_type": "execute_result"
    }
   ],
   "source": [
    "x_exact = ones(5)\n",
    "b = [α,0,0,0,1]"
   ]
  },
  {
   "cell_type": "markdown",
   "id": "underlying-spare",
   "metadata": {},
   "source": [
    "Now we use backward substitution to solve for `x`, and compare to the exact solution we know already.\n",
    "\n",
    "```\n",
    "x = FNC.backsub(U,b)\n",
    "err = x - x_exact\n",
    "```\n",
    "\n",
    "Everything seems OK here. But another example, with a different value for $\\beta$, is more troubling."
   ]
  },
  {
   "cell_type": "code",
   "execution_count": 13,
   "id": "intense-galaxy",
   "metadata": {},
   "outputs": [
    {
     "data": {
      "text/plain": [
       "5-element Vector{Float64}:\n",
       " -4.882812499995559e-5\n",
       "  0.0\n",
       "  0.0\n",
       "  0.0\n",
       "  0.0"
      ]
     },
     "execution_count": 13,
     "metadata": {},
     "output_type": "execute_result"
    }
   ],
   "source": [
    "α = 0.3;\n",
    "β = 1e12;\n",
    "U = diagm( 0=>ones(5), 1=>[-1,-1,-1,-1] )\n",
    "U[1,[4,5]] = [ α-β, β ]\n",
    "b = [α,0,0,0,1]\n",
    "\n",
    "x = FNC.backsub(U,b)\n",
    "err = x - x_exact"
   ]
  },
  {
   "cell_type": "markdown",
   "id": "narrative-consensus",
   "metadata": {},
   "source": [
    "It's not so good to get four digits of accuracy after starting with sixteen! The source of the error is not hard to track down. Solving for $x_1$ performs $(\\alpha-\\beta)+\\beta$ in the first row. Since $|\\alpha|$ is so much smaller than $|\\beta|$, this a recipe for losing digits to subtractive cancellation.\n",
    "\n",
    "```{raw} html\n",
    "</div>\n",
    "```\n",
    "\n",
    "```{raw} latex\n",
    "%%end demo%%\n",
    "```\n",
    "\n",
    "The example in {numref}`Demo %s <demo-systems-triangular>` is our first clue that linear system problems may have large condition numbers, making inaccurate solutions inevitable in floating-point arithmetic. We will learn how to spot such problems in {numref}`section-linsys-condition-number`. Before reaching that point, however, we need to discuss how to solve general linear systems, not just triangular ones.\n",
    "\n",
    "## Exercises\n",
    "\n",
    "1. ✍ Find a vector $\\mathbf{b}$ such that the system $\\begin{bmatrix} 0&1\\\\0&0 \\end{bmatrix} \\mathbf{x}=\\mathbf{b}$ has no solution.\n",
    "\n",
    "    (problem-linear-systems-triangular)=\n",
    "2. ✍ Solve the following triangular systems by hand.\n",
    "\n",
    "    **(a)** $\\displaystyle \\begin{aligned}\n",
    "      -2x_1  &= -4 \\\\\n",
    "        x_1  - x_2        &= 2 \\\\\n",
    "       3x_1 + 2x_2  + x_3 &= 1\n",
    "      \\end{aligned} \\quad$\n",
    "    **(b)** $\\displaystyle \\begin{bmatrix}\n",
    "        4 & 0 & 0 & 0 \\\\\n",
    "        1 & -2 & 0 & 0 \\\\\n",
    "        -1 & 4 & 4 & 0 \\\\\n",
    "        2 & -5 & 5 & 1\n",
    "      \\end{bmatrix} \\mathbf{x} = \\begin{bmatrix}\n",
    "        -4 \\\\ 1 \\\\ -3 \\\\ 5\n",
    "      \\end{bmatrix}\\quad$\n",
    "    **(c)** $\\displaystyle \\begin{aligned}\n",
    "       3x_1 +  2x_2  +  x_3      &= 1 \\\\\n",
    "               x_2   -  x_3      &= 2 \\\\\n",
    "                        2 x_3    &= -4\n",
    "      \\end{aligned}$\n",
    "\n",
    "3. ⌨ Use {numref}`Function {number} <function-forwardsub>` or {numref}`Function {number} <function-backsub>` to solve each system from the preceding exercise. Verify that the solution is correct by computing $\\mathbf{L}\\mathbf{x}$ and subtracting $\\mathbf{b}$.\n",
    "\n",
    "4. ⌨  Use {numref}`Function {number} <function-backsub>` to solve the following systems.  Verify that the solution is correct by computing $\\mathbf{U}\\mathbf{x}$ and subtracting $\\mathbf{b}$.\n",
    "\n",
    "    **(a)** $\\;\\begin{bmatrix}\n",
    "      3 & 1 & 0  \\\\\n",
    "      0 & -1 & -2  \\\\\n",
    "      0 & 0 & 3  \\\\\n",
    "    \\end{bmatrix} \\mathbf{x} = \\begin{bmatrix}\n",
    "      1 \\\\ 1 \\\\ 6\n",
    "    \\end{bmatrix}\\qquad$\n",
    "    **(b)** $\\;\\begin{bmatrix}\n",
    "      3 & 1 & 0 & 6 \\\\\n",
    "      0 & -1 & -2 & 7 \\\\\n",
    "      0 & 0 & 3 & 4 \\\\\n",
    "      0 & 0 & 0 & 5\n",
    "    \\end{bmatrix} \\mathbf{x} = \\begin{bmatrix}\n",
    "      4 \\\\ 1 \\\\ 1 \\\\ 5\n",
    "    \\end{bmatrix}$\n",
    "\n",
    "    (problem-linear-systems-lumpstring)=\n",
    "5. Suppose a string is stretched with tension $\\tau$ horizontally between two anchors at $x=0$ and $x=1$. At each of the $n-1$ equally spaced positions $x_k=k/n$, $k=1,\\ldots,n-1$, we attach a little mass $m_i$ and allow the string to come to equilibrium. This causes vertical displacement of the string. Let $q_k$ be the amount of displacement at $x_k$. If the displacements are not too large, then an approximate force balance equation is\n",
    "  \n",
    "    ```{math} \n",
    "    n \\tau (q_k - q_{k-1}) + n\\tau (q_k - q_{k+1}) =\n",
    "    m_k g, \\qquad k=1,\\ldots,n-1,\n",
    "    ```\n",
    "\n",
    "    where $g=-9.8$ m/s$^2$ is the acceleration due to gravity, and we define $q_0=0$ and $q_n=0$ due to the anchors. This defines a linear system for $q_1,\\ldots,q_{n-1}$.\n",
    "\n",
    "    **(a)** ✍ Show that the force balance equations can be written as a linear system $\\mathbf{A}\\mathbf{q}=\\mathbf{f}$, where $\\mathbf{q}$ is a vector of the unknown displacements and $\\mathbf{A}$ is a tridiagonal matrix, i.e., $A_{ij}=0$ if $|i-j|>1$) of size $(n-1)\\times(n-1)$.\n",
    "\n",
    "    **(b)** ⌨  Let $\\tau=10$ N, and $m_k=(1/10n)$ kg for every $k$. Using backslash, find the displacements when $n=8$ and $n=40$, and superimpose plots of $\\mathbf{q}$ over $0\\le x \\le 1$ for the two cases. (Be sure to include the zero values at $x=0$ and $x=1$ in your plots.)\n",
    "\n",
    "    **(c)** ⌨  Repeat (b) for the case $m_k = (k/5n^2)$ kg.\n",
    "\n",
    "    (problem-systemsinverse)=\n",
    "6. ⌨  If $\\mathbf{B}\\in\\mathbb{R}^{n \\times p}$, has columns $\\mathbf{b}_1,\\ldots,\\mathbf{b}_p$, then we can pose $p$ linear systems at once by writing $\\mathbf{A} \\mathbf{X} = \\mathbf{B}$, where $\\mathbf{X}$ is $n\\times p$. Specifically, this equation implies $\\mathbf{A} \\mathbf{x}_j = \\mathbf{b}_j$ for $j=1,\\ldots,p$.\n",
    "\n",
    "    **(a)** Modify {numref}`Function {number} <function-forwardsub>` and {numref}`Function {number} <function-backsub>` so that they solve the case where the second input is $n\\times p$ for $p\\ge 1$.\n",
    "\n",
    "    **(b)** If $\\mathbf{A} \\mathbf{X}=\\mathbf{I}$, then $\\mathbf{X}=\\mathbf{A}^{-1}$. Use this fact to write a function `ltinverse` that uses your modified **forwardsub** to compute the inverse of a lower triangular matrix. Test your function on at least two nontrivial matrices. (We remind you here that this is just an exercise; matrix inverses are rarely a good idea in numerical practice!)\n",
    "\n",
    "    (problem-ls-triangillcond)=\n",
    "7. ⌨ {numref}`Demo %s <demo-systems-triangular>` showed solutions of $\\mathbf{A}\\mathbf{x}=\\mathbf{b}$, where\n",
    "  \n",
    "    ```{math}\n",
    "    \\mathbf{A} = \\begin{bmatrix} 1 & -1 & 0 & \\alpha-\\beta & \\beta \\\\ 0 & 1 & -1 &\n",
    "      0 & 0 \\\\ 0 & 0 & 1 & -1 & 0 \\\\ 0 & 0 & 0 & 1 & -1  \\\\ 0 & 0 & 0 & 0 & 1\n",
    "    \\end{bmatrix}, \\quad\n",
    "    \\mathbf{b} = \\begin{bmatrix} \\alpha \\\\ 0 \\\\ 0 \\\\ 0 \\\\ 1 \\end{bmatrix}.\n",
    "    ```\n",
    "\n",
    "    Use {numref}`Function {number} <function-backsub>` to solve with $\\alpha=0.1$ and $\\beta=10,100,10^3,\\ldots,10^{12}$, tabulating the values of $\\beta$ and $|x_1-1|$. (This kind of behavior is explained in {numref}`section-linsys-condition-number`.)"
   ]
  }
 ],
 "metadata": {
  "jupytext": {
   "cell_metadata_filter": "-all",
   "formats": "md:myst",
   "text_representation": {
    "extension": ".md",
    "format_name": "myst",
    "format_version": 0.13,
    "jupytext_version": "1.10.3"
   }
  },
  "kernelspec": {
   "display_name": "Julia 1.6.1",
   "language": "julia",
   "name": "julia-fast"
  },
  "language_info": {
   "file_extension": ".jl",
   "mimetype": "application/julia",
   "name": "julia",
   "version": "1.6.1"
  },
  "source_map": [
   15,
   18,
   99,
   103,
   107,
   109,
   116,
   118,
   122,
   126,
   150,
   152,
   360,
   363,
   367,
   370,
   374,
   376,
   404,
   412,
   415,
   426,
   435
  ]
 },
 "nbformat": 4,
 "nbformat_minor": 5
}