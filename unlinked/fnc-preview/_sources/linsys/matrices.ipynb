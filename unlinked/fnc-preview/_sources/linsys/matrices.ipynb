{
 "cells": [
  {
   "cell_type": "code",
   "execution_count": 1,
   "id": "parallel-enzyme",
   "metadata": {
    "tags": [
     "remove-cell"
    ]
   },
   "outputs": [],
   "source": [
    "include(\"../init-notebook.jl\")"
   ]
  },
  {
   "cell_type": "markdown",
   "id": "monthly-trick",
   "metadata": {},
   "source": [
    "(section-linsys-matrices)=\n",
    "# Computing with matrices\n",
    "\n",
    "```{attention}\n",
    "We recommend that you review the linear algebra material in {doc}`../appendix/linear-algebra` before reading this section.\n",
    "```\n",
    "\n",
    "At a reductive level, a matrix is a table of numbers that obeys certain algebraic laws. But they are pervasive in scientific computation mainly because they represent linear operations on vectors. For their part, vectors go far beyond the three-dimensional representations of physical quantities you learned about in calculus. \n",
    "\n",
    "## Notation\n",
    "\n",
    "We use capital letters in bold to refer to matrices, and lowercase bold letters for vectors. *All named vectors in this book are column vectors*. The bold symbol $\\boldsymbol{0}$ may refer to a vector of all zeros or to a zero matrix, depending on context; we use $0$ as the scalar zero only.\n",
    "\n",
    "To refer to a specific element of a matrix, we use the uppercase name of the matrix *without* boldface, as in $A_{24}$ to mean the $(2,4)$ element of $\\mathbf{A}$.[^subscript] To refer to an element of a vector, we use just one subscript, as in $x_3$. If you see a boldface character with one or more subscripts, then you know that it is a matrix or vector that belongs to a sequence or indexed collection.\n",
    "\n",
    "[^subscript]: This aspect of our notation is slightly unusual. More frequently one would see the lowercase $a_{24}$ in this context. We feel that our notation lends more consistency and clarity to expressions with mixed symbols, and it is more like how computer code is written.\n",
    "\n",
    "We will have frequent need to refer to the individual columns of a matrix as vectors. Our convention is to use a lowercase bold version of the matrix name with a subscript to represent the column number. Thus, $\\mathbf{a}_1,\\mathbf{a}_2,\\ldots,\\mathbf{a}_n$ are the columns of the $m\\times n$ matrix $\\mathbf{A}$. Conversely, whenever we define a sequence of vectors $\\mathbf{v}_1,\\ldots,\\mathbf{v}_p$, we can implicitly consider them to be columns of a matrix $\\mathbf{V}$. Sometimes we might write $\\mathbf{V}=\\bigl[ \\mathbf{v}_j \\bigr]$ to emphasize the connection.\n",
    "\n",
    "```{index} transpose, adjoint, symmetric matrix, hermitian matrix\n",
    "```\n",
    "\n",
    "The notation $\\mathbf{A}^T$ is used for the transpose of a matrix, whether it is real or complex. In the case of complex matrices, it's almost always more desirable to use the **adjoint** $\\mathbf{A}^*$, which is the transpose with the complex conjugate of each element.[^conjugate]  If $\\mathbf{A}$ is real, then $\\mathbf{A}^*=\\mathbf{A}^T$. A **symmetric matrix** is a square matrix such that $\\mathbf{A}^T=\\mathbf{A}$. \n",
    "\n",
    "[^conjugate]: The conjugate of a complex number is found by replacing all references to the imaginary unit $i$ by $-i$.\n",
    "\n",
    "```{index} identity matrix\n",
    "```\n",
    "\n",
    "The **identity matrix** of size $n$ is denoted $\\mathbf{I}$, or sometimes $\\mathbf{I}_n$ if emphasizing the size is important in context. For columns of the identity we break with our usual naming convention and denote them by $\\mathbf{e}_j$.\n",
    "\n",
    "## Block matrix expressions\n",
    "\n",
    "We will often find it useful to break a matrix into separately named pieces. For example, we might write\n",
    "\n",
    "```{math}\n",
    "  \\mathbf{A} =\n",
    "  \\begin{bmatrix}\n",
    "    \\mathbf{A}_{11} & \\mathbf{A}_{12} & \\mathbf{A}_{13} \\\\\n",
    "    \\mathbf{A}_{21} & \\mathbf{A}_{22} & \\mathbf{A}_{23}\n",
    "  \\end{bmatrix}, \\qquad\n",
    "  \\mathbf{B} =\n",
    "  \\begin{bmatrix}\n",
    "    \\mathbf{B}_1 \\\\ \\mathbf{B}_2 \\\\ \\mathbf{B}_3\n",
    "  \\end{bmatrix}.\n",
    "```\n",
    "\n",
    "It's understood that blocks that are on top of one another have the same number of columns, and blocks that are side by side have the same number of rows. Typically, if the blocks all have compatible dimensions, then they can be multiplied as though the blocks were scalars. For instance, continuing with the definitions above, we say that $\\mathbf{A}$ is block-$2\\times 3$ and $\\mathbf{B}$ is block-$3\\times 1$, so we can write\n",
    "\n",
    "```{math}\n",
    "  \\mathbf{A} \\mathbf{B} =\n",
    "  \\begin{bmatrix}\n",
    "    \\mathbf{A}_{11}\\mathbf{B}_1 + \\mathbf{A}_{12}\\mathbf{B}_2 + \\mathbf{A}_{13}\\mathbf{B}_3 \\\\\n",
    "    \\mathbf{A}_{21}\\mathbf{B}_1 + \\mathbf{A}_{22}\\mathbf{B}_2 + \\mathbf{A}_{23}\\mathbf{B}_3\n",
    "  \\end{bmatrix},\n",
    "```\n",
    "\n",
    "provided that the individual block products are well-defined. For transposes we have, for example,\n",
    "\n",
    "```{math}\n",
    "  \\mathbf{A}^T =\n",
    "  \\begin{bmatrix}\n",
    "    \\mathbf{A}_{11}^T & \\mathbf{A}_{21}^T \\\\[2mm]\n",
    "    \\mathbf{A}_{12}^T & \\mathbf{A}_{22}^T \\\\[2mm]\n",
    "    \\mathbf{A}_{13}^T & \\mathbf{A}_{23}^T\n",
    "  \\end{bmatrix}.\n",
    "```\n",
    "\n",
    "## Vectors and matrices in Julia\n",
    "\n",
    "In Julia, vectors and matrices are one-dimensional and two-dimensional arrays, respectively. A lot of how Julia deals with them is easy to remember once learned. There's a lot to learn, though, so we give just some of the basics here, and we will pick up more as we go from the code used in our examples and functions.  \n",
    "\n",
    "(demo-matrices-julia)=\n",
    "```{proof:demo}\n",
    "```\n",
    "\n",
    "```{raw} html\n",
    "<div class='demo'>\n",
    "```\n",
    "\n",
    "```{raw} latex\n",
    "%%start demo%%\n",
    "```\n",
    "\n",
    ":::{index} ! Julia; size, ! Julia; length\n",
    ":::\n",
    "\n",
    "::::{panels}\n",
    ":column: col-7 left-side\n",
    ":card: border-0 shadow-none\n",
    "```{raw} latex\n",
    "\\begin{minipage}[t]{0.5\\textwidth}\n",
    "```\n",
    "Square brackets are used to enclose elements of a matrix or vector. Use spaces for horizontal concatenation, and semicolons or new lines to indicate vertical concatenation.\n",
    "\n",
    "```{raw} latex\n",
    "\\end{minipage}\\hfill\n",
    "```\n",
    "---\n",
    ":column: col-5 right-side\n",
    ":card: shadow-none comment\n",
    "```{raw} latex\n",
    "\\begin{minipage}[t]{0.4\\textwidth}\\begin{mdframed}[default]\\small\n",
    "```\n",
    "\n",
    "The `size` function returns the number of rows and columns in a matrix. Use `length` to get the number of elements in a vector or matrix.\n",
    "```{raw} latex\n",
    "\\end{mdframed}\\end{minipage}\n",
    "```\n",
    "::::"
   ]
  },
  {
   "cell_type": "code",
   "execution_count": 2,
   "id": "polished-ground",
   "metadata": {},
   "outputs": [
    {
     "data": {
      "text/plain": [
       "3×5 Matrix{Float64}:\n",
       "  1.0       2.0       3.0       4.0       5.0\n",
       " 50.0      40.0      30.0      20.0      10.0\n",
       "  3.14159   1.41421   2.71828   1.61803   1.09861"
      ]
     },
     "execution_count": 2,
     "metadata": {},
     "output_type": "execute_result"
    }
   ],
   "source": [
    "A = [ 1 2 3 4 5; 50 40 30 20 10\n",
    "    π sqrt(2) exp(1) (1+sqrt(5))/2 log(3) ]"
   ]
  },
  {
   "cell_type": "code",
   "execution_count": 3,
   "id": "basic-precipitation",
   "metadata": {},
   "outputs": [
    {
     "data": {
      "text/plain": [
       "(3, 5)"
      ]
     },
     "execution_count": 3,
     "metadata": {},
     "output_type": "execute_result"
    }
   ],
   "source": [
    "m,n = size(A)"
   ]
  },
  {
   "cell_type": "markdown",
   "id": "molecular-ethnic",
   "metadata": {},
   "source": [
    "::::{panels}\n",
    ":column: col-7 left-side\n",
    ":card: border-0 shadow-none\n",
    "```{raw} latex\n",
    "\\begin{minipage}[t]{0.5\\textwidth}\n",
    "```\n",
    "A vector is not quite the same thing as a matrix. It has only one dimension, not two. Separate its elements by commas or semicolons.\n",
    "\n",
    "```{raw} latex\n",
    "\\end{minipage}\\hfill\n",
    "```\n",
    "---\n",
    ":column: col-5 right-side\n",
    ":card: shadow-none comment\n",
    "```{raw} latex\n",
    "\\begin{minipage}[t]{0.4\\textwidth}\\begin{mdframed}[default]\\small\n",
    "```\n",
    "Separate elements of a vector by commas or semicolons. If you use spaces, you will get a matrix with one row, which is treated differently.\n",
    "```{raw} latex\n",
    "\\end{mdframed}\\end{minipage}\n",
    "```\n",
    "::::"
   ]
  },
  {
   "cell_type": "code",
   "execution_count": 4,
   "id": "solar-williams",
   "metadata": {},
   "outputs": [
    {
     "data": {
      "text/plain": [
       "(5,)"
      ]
     },
     "execution_count": 4,
     "metadata": {},
     "output_type": "execute_result"
    }
   ],
   "source": [
    "x = [ 3, 3, 0, 1, 0 ]\n",
    "size(x)"
   ]
  },
  {
   "cell_type": "markdown",
   "id": "appropriate-mattress",
   "metadata": {},
   "source": [
    "For many purposes, however, an $n$-vector in Julia is a lot like an $n\\times 1$ column vector.\n",
    "\n",
    "Concatenated elements within brackets may be matrices or vectors for a block representation, as long as all the block sizes are compatible."
   ]
  },
  {
   "cell_type": "code",
   "execution_count": 5,
   "id": "persistent-advancement",
   "metadata": {},
   "outputs": [
    {
     "data": {
      "text/plain": [
       "5×2 Matrix{Int64}:\n",
       " 3  3\n",
       " 3  3\n",
       " 0  0\n",
       " 1  1\n",
       " 0  0"
      ]
     },
     "execution_count": 5,
     "metadata": {},
     "output_type": "execute_result"
    }
   ],
   "source": [
    "[ x  x ]"
   ]
  },
  {
   "cell_type": "code",
   "execution_count": 6,
   "id": "prerequisite-smile",
   "metadata": {},
   "outputs": [
    {
     "data": {
      "text/plain": [
       "10-element Vector{Int64}:\n",
       " 3\n",
       " 3\n",
       " 0\n",
       " 1\n",
       " 0\n",
       " 3\n",
       " 3\n",
       " 0\n",
       " 1\n",
       " 0"
      ]
     },
     "execution_count": 6,
     "metadata": {},
     "output_type": "execute_result"
    }
   ],
   "source": [
    "[ x; x ]"
   ]
  },
  {
   "cell_type": "markdown",
   "id": "chubby-wales",
   "metadata": {},
   "source": [
    "The `zeros` and `ones` functions construct matrices with entries all zero or one, respectively."
   ]
  },
  {
   "cell_type": "code",
   "execution_count": 7,
   "id": "crude-calculation",
   "metadata": {},
   "outputs": [
    {
     "data": {
      "text/plain": [
       "3×3 Matrix{Float64}:\n",
       " 0.0  0.0  1.0\n",
       " 0.0  0.0  1.0\n",
       " 0.0  0.0  1.0"
      ]
     },
     "execution_count": 7,
     "metadata": {},
     "output_type": "execute_result"
    }
   ],
   "source": [
    "B = [ zeros(3,2) ones(3,1) ]"
   ]
  },
  {
   "cell_type": "markdown",
   "id": "integrated-creature",
   "metadata": {},
   "source": [
    "```{index} ! Julia; transpose, ! Julia; adjoint, ! Julia; \\'\n",
    "```\n",
    "\n",
    "A single quote `'` after a matrix returns its adjoint. For real matrices, this is the transpose; for complex-valued matrices, the elements are also conjugated."
   ]
  },
  {
   "cell_type": "code",
   "execution_count": 8,
   "id": "accompanied-theory",
   "metadata": {},
   "outputs": [
    {
     "data": {
      "text/plain": [
       "5×3 adjoint(::Matrix{Float64}) with eltype Float64:\n",
       " 1.0  50.0  3.14159\n",
       " 2.0  40.0  1.41421\n",
       " 3.0  30.0  2.71828\n",
       " 4.0  20.0  1.61803\n",
       " 5.0  10.0  1.09861"
      ]
     },
     "execution_count": 8,
     "metadata": {},
     "output_type": "execute_result"
    }
   ],
   "source": [
    "A'"
   ]
  },
  {
   "cell_type": "markdown",
   "id": "important-senior",
   "metadata": {},
   "source": [
    "If `x` is simply a vector, then its transpose has a row shape."
   ]
  },
  {
   "cell_type": "code",
   "execution_count": 9,
   "id": "fluid-visibility",
   "metadata": {},
   "outputs": [
    {
     "data": {
      "text/plain": [
       "1×5 adjoint(::Vector{Int64}) with eltype Int64:\n",
       " 3  3  0  1  0"
      ]
     },
     "execution_count": 9,
     "metadata": {},
     "output_type": "execute_result"
    }
   ],
   "source": [
    "x'"
   ]
  },
  {
   "cell_type": "markdown",
   "id": "excellent-daisy",
   "metadata": {},
   "source": [
    "```{index} ! Julia; range, ! Julia; \\:\n",
    "```\n",
    "\n",
    "There are many convenient shorthand ways of building vectors and matrices other than entering all of their entries directly or in a loop. To get a range with evenly spaced entries between two endpoints, you have two options. One is to use a colon `:`."
   ]
  },
  {
   "cell_type": "code",
   "execution_count": 10,
   "id": "confirmed-victoria",
   "metadata": {},
   "outputs": [
    {
     "data": {
      "text/plain": [
       "1:4"
      ]
     },
     "execution_count": 10,
     "metadata": {},
     "output_type": "execute_result"
    }
   ],
   "source": [
    "y = 1:4              # start:stop"
   ]
  },
  {
   "cell_type": "code",
   "execution_count": 11,
   "id": "joint-acceptance",
   "metadata": {},
   "outputs": [
    {
     "data": {
      "text/plain": [
       "0:3:12"
      ]
     },
     "execution_count": 11,
     "metadata": {},
     "output_type": "execute_result"
    }
   ],
   "source": [
    "z = 0:3:12           # start:step:stop"
   ]
  },
  {
   "cell_type": "markdown",
   "id": "essential-carnival",
   "metadata": {},
   "source": [
    "(Ranges are not strictly considered vectors, but they behave identically in most circumstances.)Instead of specifying the step size, you can give the number of points in the range if you use `range`."
   ]
  },
  {
   "cell_type": "code",
   "execution_count": 12,
   "id": "special-wiring",
   "metadata": {},
   "outputs": [
    {
     "data": {
      "text/plain": [
       "-1.0:0.5:1.0"
      ]
     },
     "execution_count": 12,
     "metadata": {},
     "output_type": "execute_result"
    }
   ],
   "source": [
    "s = range(-1,1,length=5)"
   ]
  },
  {
   "cell_type": "markdown",
   "id": "norman-agreement",
   "metadata": {},
   "source": [
    ":::{index} ! Julia; end, ! Julia; indexing arrays\n",
    ":::\n",
    "\n",
    "::::{panels}\n",
    ":column: col-7 left-side\n",
    ":card: border-0 shadow-none\n",
    "```{raw} latex\n",
    "\\begin{minipage}[t]{0.5\\textwidth}\n",
    "```\n",
    "Accessing an element is done by giving one (for a vector) or two (for a matrix) index values within square brackets. \n",
    "\n",
    "```{raw} latex\n",
    "\\end{minipage}\\hfill\n",
    "```\n",
    "---\n",
    ":column: col-5 right-side\n",
    ":card: shadow-none comment\n",
    "```{raw} latex\n",
    "\\begin{minipage}[t]{0.4\\textwidth}\\begin{mdframed}[default]\\small\n",
    "```\n",
    "The `end` keyword refers to the last element in a dimension. It saves you from having to compute and store the size of the matrix first.\n",
    "```{raw} latex\n",
    "\\end{mdframed}\\end{minipage}\n",
    "```\n",
    "::::"
   ]
  },
  {
   "cell_type": "code",
   "execution_count": 13,
   "id": "powerful-annotation",
   "metadata": {},
   "outputs": [
    {
     "data": {
      "text/plain": [
       "20.0"
      ]
     },
     "execution_count": 13,
     "metadata": {},
     "output_type": "execute_result"
    }
   ],
   "source": [
    "a = A[2,end-1]"
   ]
  },
  {
   "cell_type": "code",
   "execution_count": 14,
   "id": "plastic-irrigation",
   "metadata": {},
   "outputs": [
    {
     "data": {
      "text/plain": [
       "3"
      ]
     },
     "execution_count": 14,
     "metadata": {},
     "output_type": "execute_result"
    }
   ],
   "source": [
    "x[2]"
   ]
  },
  {
   "cell_type": "markdown",
   "id": "adjacent-ticket",
   "metadata": {},
   "source": [
    "The indices can be vectors or ranges, in which case a block of the matrix is accessed."
   ]
  },
  {
   "cell_type": "code",
   "execution_count": 15,
   "id": "gorgeous-glance",
   "metadata": {},
   "outputs": [
    {
     "data": {
      "text/plain": [
       "2×3 Matrix{Float64}:\n",
       "  3.0   4.0   5.0\n",
       " 30.0  20.0  10.0"
      ]
     },
     "execution_count": 15,
     "metadata": {},
     "output_type": "execute_result"
    }
   ],
   "source": [
    "A[1:2,end-2:end]    # first two rows, last three columns"
   ]
  },
  {
   "cell_type": "markdown",
   "id": "individual-greek",
   "metadata": {},
   "source": [
    "```{index} Julia; \\:\n",
    "```\n",
    "\n",
    "If a dimension has only the index `:` (a colon), then it refers to all the entries in that dimension of the matrix."
   ]
  },
  {
   "cell_type": "code",
   "execution_count": 16,
   "id": "separate-transformation",
   "metadata": {},
   "outputs": [
    {
     "data": {
      "text/plain": [
       "3×3 Matrix{Float64}:\n",
       "  1.0       3.0       5.0\n",
       " 50.0      30.0      10.0\n",
       "  3.14159   2.71828   1.09861"
      ]
     },
     "execution_count": 16,
     "metadata": {},
     "output_type": "execute_result"
    }
   ],
   "source": [
    "A[:,1:2:end]        # all of the odd columns"
   ]
  },
  {
   "cell_type": "markdown",
   "id": "equal-vegetable",
   "metadata": {},
   "source": [
    ":::{index} ! Julia; diagm\n",
    ":::\n",
    "\n",
    "::::{panels}\n",
    ":column: col-7 left-side\n",
    ":card: border-0 shadow-none\n",
    "```{raw} latex\n",
    "\\begin{minipage}[t]{0.5\\textwidth}\n",
    "```\n",
    "The matrix and vector senses of addition, subtraction, scalar multiplication, multiplication, and power are all handled by the usual symbols. \n",
    "\n",
    "```{raw} latex\n",
    "\\end{minipage}\\hfill\n",
    "```\n",
    "---\n",
    ":column: col-5 right-side\n",
    ":card: shadow-none comment\n",
    "```{raw} latex\n",
    "\\begin{minipage}[t]{0.4\\textwidth}\\begin{mdframed}[default]\\small\n",
    "```\n",
    "Use `diagm` to construct a matrix by its diagonals. A more general syntax puts elements on super- or subdiagonals.\n",
    "```{raw} latex\n",
    "\\end{mdframed}\\end{minipage}\n",
    "```\n",
    "::::"
   ]
  },
  {
   "cell_type": "code",
   "execution_count": 17,
   "id": "charitable-shield",
   "metadata": {},
   "outputs": [
    {
     "data": {
      "text/plain": [
       "3×3 Matrix{Int64}:\n",
       " -1  0   0\n",
       "  0  0   0\n",
       "  0  0  -5"
      ]
     },
     "execution_count": 17,
     "metadata": {},
     "output_type": "execute_result"
    }
   ],
   "source": [
    "B = diagm( [-1,0,-5] )   # create a diagonal matrix"
   ]
  },
  {
   "cell_type": "code",
   "execution_count": 18,
   "id": "composed-excerpt",
   "metadata": {},
   "outputs": [
    {
     "data": {
      "text/plain": [
       "3×5 Matrix{Float64}:\n",
       "  -1.0    -2.0       -3.0     -4.0      -5.0\n",
       "   0.0     0.0        0.0      0.0       0.0\n",
       " -15.708  -7.07107  -13.5914  -8.09017  -5.49306"
      ]
     },
     "execution_count": 18,
     "metadata": {},
     "output_type": "execute_result"
    }
   ],
   "source": [
    "BA = B*A     # matrix product"
   ]
  },
  {
   "cell_type": "markdown",
   "id": "bored-gazette",
   "metadata": {},
   "source": [
    "::::{panels}\n",
    ":column: col-7 left-side\n",
    ":card: border-0 shadow-none\n",
    "```{raw} latex\n",
    "\\begin{minipage}[t]{0.5\\textwidth}\n",
    "```\n",
    "`A*B` causes an error, because the dimensions aren't compatible.\n",
    "\n",
    "```{raw} latex\n",
    "\\end{minipage}\\hfill\n",
    "```\n",
    "---\n",
    ":column: col-5 right-side\n",
    ":card: shadow-none comment\n",
    "```{raw} latex\n",
    "\\begin{minipage}[t]{0.4\\textwidth}\\begin{mdframed}[default]\\small\n",
    "```\n",
    "Errors are formally called *exceptions* in Julia.\n",
    "```{raw} latex\n",
    "\\end{mdframed}\\end{minipage}\n",
    "```\n",
    "::::"
   ]
  },
  {
   "cell_type": "code",
   "execution_count": 19,
   "id": "shaped-machinery",
   "metadata": {},
   "outputs": [
    {
     "ename": "LoadError",
     "evalue": "DimensionMismatch(\"matrix A has dimensions (3,5), matrix B has dimensions (3,3)\")",
     "output_type": "error",
     "traceback": [
      "DimensionMismatch(\"matrix A has dimensions (3,5), matrix B has dimensions (3,3)\")",
      "",
      "Stacktrace:",
      " [1] _generic_matmatmul!(C::Matrix{Float64}, tA::Char, tB::Char, A::Matrix{Float64}, B::Matrix{Int64}, _add::LinearAlgebra.MulAddMul{true, true, Bool, Bool})",
      "   @ LinearAlgebra /Users/julia/buildbot/worker/package_macos64/build/usr/share/julia/stdlib/v1.6/LinearAlgebra/src/matmul.jl:814",
      " [2] generic_matmatmul!(C::Matrix{Float64}, tA::Char, tB::Char, A::Matrix{Float64}, B::Matrix{Int64}, _add::LinearAlgebra.MulAddMul{true, true, Bool, Bool})",
      "   @ LinearAlgebra /Users/julia/buildbot/worker/package_macos64/build/usr/share/julia/stdlib/v1.6/LinearAlgebra/src/matmul.jl:802",
      " [3] mul!",
      "   @ /Users/julia/buildbot/worker/package_macos64/build/usr/share/julia/stdlib/v1.6/LinearAlgebra/src/matmul.jl:302 [inlined]",
      " [4] mul!",
      "   @ /Users/julia/buildbot/worker/package_macos64/build/usr/share/julia/stdlib/v1.6/LinearAlgebra/src/matmul.jl:275 [inlined]",
      " [5] *(A::Matrix{Float64}, B::Matrix{Int64})",
      "   @ LinearAlgebra /Users/julia/buildbot/worker/package_macos64/build/usr/share/julia/stdlib/v1.6/LinearAlgebra/src/matmul.jl:153",
      " [6] top-level scope",
      "   @ In[19]:1",
      " [7] eval",
      "   @ ./boot.jl:360 [inlined]",
      " [8] include_string(mapexpr::typeof(REPL.softscope), mod::Module, code::String, filename::String)",
      "   @ Base ./loading.jl:1094"
     ]
    }
   ],
   "source": [
    "A*B    # throws an error"
   ]
  },
  {
   "cell_type": "markdown",
   "id": "prescription-hardware",
   "metadata": {},
   "source": [
    "A square matrix raised to an integer power is the same as repeated matrix multiplication."
   ]
  },
  {
   "cell_type": "code",
   "execution_count": 20,
   "id": "certified-mother",
   "metadata": {},
   "outputs": [
    {
     "data": {
      "text/plain": [
       "3×3 Matrix{Int64}:\n",
       " -1  0     0\n",
       "  0  0     0\n",
       "  0  0  -125"
      ]
     },
     "execution_count": 20,
     "metadata": {},
     "output_type": "execute_result"
    }
   ],
   "source": [
    "B^3    # same as B*B*B"
   ]
  },
  {
   "cell_type": "markdown",
   "id": "informed-brazil",
   "metadata": {},
   "source": [
    "Sometimes one instead wants to treat a matrix or vector as a mere array and simply apply a single operation to each element of it. For multiplication, division, and power, the corresponding operators start with a dot."
   ]
  },
  {
   "cell_type": "code",
   "execution_count": 21,
   "id": "practical-moral",
   "metadata": {},
   "outputs": [],
   "source": [
    "C = -A;"
   ]
  },
  {
   "cell_type": "markdown",
   "id": "sudden-delicious",
   "metadata": {},
   "source": [
    "`A*C` would be an error."
   ]
  },
  {
   "cell_type": "code",
   "execution_count": 22,
   "id": "placed-arrangement",
   "metadata": {},
   "outputs": [
    {
     "data": {
      "text/plain": [
       "3×5 Matrix{Float64}:\n",
       "    -1.0        -4.0    -9.0       -16.0       -25.0\n",
       " -2500.0     -1600.0  -900.0      -400.0      -100.0\n",
       "    -9.8696     -2.0    -7.38906    -2.61803    -1.20695"
      ]
     },
     "execution_count": 22,
     "metadata": {},
     "output_type": "execute_result"
    }
   ],
   "source": [
    "elementwise = A.*C"
   ]
  },
  {
   "cell_type": "markdown",
   "id": "dirty-spider",
   "metadata": {},
   "source": [
    "```{index} Julia; broadcasting\n",
    "```\n",
    "\n",
    "The two operands of a dot operator have to have the same size—unless one is a scalar, in which case it is expanded or *broadcast* to be the same size as the other operand."
   ]
  },
  {
   "cell_type": "code",
   "execution_count": 23,
   "id": "subject-respect",
   "metadata": {},
   "outputs": [
    {
     "data": {
      "text/plain": [
       "5-element Vector{Int64}:\n",
       " 9\n",
       " 9\n",
       " 0\n",
       " 1\n",
       " 0"
      ]
     },
     "execution_count": 23,
     "metadata": {},
     "output_type": "execute_result"
    }
   ],
   "source": [
    "x_to_two = x.^2"
   ]
  },
  {
   "cell_type": "code",
   "execution_count": 24,
   "id": "married-appearance",
   "metadata": {},
   "outputs": [
    {
     "data": {
      "text/plain": [
       "5-element Vector{Int64}:\n",
       " 8\n",
       " 8\n",
       " 1\n",
       " 2\n",
       " 1"
      ]
     },
     "execution_count": 24,
     "metadata": {},
     "output_type": "execute_result"
    }
   ],
   "source": [
    "two_to_x = 2 .^ x"
   ]
  },
  {
   "cell_type": "markdown",
   "id": "demographic-childhood",
   "metadata": {},
   "source": [
    "::::{panels}\n",
    ":column: col-7 left-side\n",
    ":card: border-0 shadow-none\n",
    "```{raw} latex\n",
    "\\begin{minipage}[t]{0.5\\textwidth}\n",
    "```\n",
    "Most of the mathematical functions, such as cos, sin, log, exp and sqrt, expect scalars as operands. However, you can broadcast any function, including ones that you have defined, across a vector or array by using a special dot syntax.\n",
    "\n",
    "```{raw} latex\n",
    "\\end{minipage}\\hfill\n",
    "```\n",
    "---\n",
    ":column: col-5 right-side\n",
    ":card: shadow-none comment\n",
    "```{raw} latex\n",
    "\\begin{minipage}[t]{0.4\\textwidth}\\begin{mdframed}[default]\\small\n",
    "```\n",
    "A dot added to the end of a function name means to apply the function elementwise to an array.\n",
    "```{raw} latex\n",
    "\\end{mdframed}\\end{minipage}\n",
    "```\n",
    "::::"
   ]
  },
  {
   "cell_type": "code",
   "execution_count": 25,
   "id": "metropolitan-spider",
   "metadata": {},
   "outputs": [
    {
     "name": "stdout",
     "output_type": "stream",
     "text": [
      "[-1.0, -1.0, 1.0, -1.0, 1.0]"
     ]
    }
   ],
   "source": [
    "show(cos.(π*x))    # broadcast to a function"
   ]
  },
  {
   "cell_type": "markdown",
   "id": "buried-nerve",
   "metadata": {},
   "source": [
    "Rather than dotting multiple individual functions, you can use `@.` before an expression to broadcast everything within it."
   ]
  },
  {
   "cell_type": "code",
   "execution_count": 26,
   "id": "incorporate-hydrogen",
   "metadata": {},
   "outputs": [
    {
     "name": "stdout",
     "output_type": "stream",
     "text": [
      "[1.0, 1.0, -1.0, 1.0, -1.0]"
     ]
    }
   ],
   "source": [
    "show(@. cos(π*(x+1)^3))    # broadcast an entire expression"
   ]
  },
  {
   "cell_type": "markdown",
   "id": "aging-spoke",
   "metadata": {},
   "source": [
    "```{raw} html\n",
    "</div>\n",
    "```\n",
    "\n",
    "```{raw} latex\n",
    "%%end demo%%\n",
    "```\n",
    "\n",
    "## Row and column operations\n",
    "\n",
    "A critical identity in matrix multiplication is\n",
    "\n",
    "```{math}\n",
    "  \\mathbf{A} \\mathbf{e}_j = \\mathbf{a}_j.\n",
    "```\n",
    "\n",
    "```{proof:observation}\n",
    "Multiplication on the right by column $j$ of the identity reproduces the $j$th column of a matrix. \n",
    "```\n",
    "\n",
    "Furthermore, the expression\n",
    "\n",
    "```{math}\n",
    "  \\mathbf{A}\n",
    "  \\begin{bmatrix}\n",
    "    \\mathbf{e}_1 & \\mathbf{e}_3 & \\mathbf{e}_5\n",
    "  \\end{bmatrix}\n",
    "```\n",
    "\n",
    "reproduces three columns. An equivalent expression in Julia would be `A[:,1:2:5]`. \n",
    "\n",
    "We can extend the same idea to rows by using the general identity $(\\mathbf{R}\\mathbf{S})^T=\\mathbf{S}^T\\mathbf{R}^T$. Let $\\mathbf{B}=\\mathbf{A}^T$ have columns $\\bigl[ \\mathbf{b}_j \\bigr]$, and note\n",
    "\n",
    "```{math}\n",
    "  (\\mathbf{b}_j)^T = (\\mathbf{B} \\mathbf{e}_j)^T = \\mathbf{e}_j^T \\mathbf{B}^T = \\mathbf{e}_j^T \\mathbf{A}.\n",
    "```\n",
    "\n",
    "But $\\mathbf{e}_j^T$ is the $j$th *row* of $\\mathbf{I}$, and $\\mathbf{b}_j^T$ is the transpose of the $j$th column of $\\mathbf{B}$, which is the $j$th *row* of $\\mathbf{A}$ by $\\mathbf{B}=\\mathbf{A}^T$. Thus, *multiplication on the left by row $j$ of the identity extracts the $j$th row*. Extracting the single element $(i,j)$ from the matrix is, therefore, $\\mathbf{e}_i^T \\mathbf{A} \\mathbf{e}_j$.\n",
    "\n",
    "Being able to extract specific rows and columns of a matrix makes it straightforward to do row- and column-oriented operations, such as linear combinations.\n",
    "\n",
    "````{proof:example}\n",
    " Say that $\\mathbf{A}$ has five columns. Adding twice the third column of $\\mathbf{A}$ to its first column is done by\n",
    "\n",
    "```{math}\n",
    "\\mathbf{A}(\\mathbf{e}_1+2\\mathbf{e}_3).\n",
    "```\n",
    "\n",
    "Suppose we want to do this operation \"in place,\" meaning replacing the first column of $\\mathbf{A}$ with this value and leaving the other four columns of $\\mathbf{A}$ alone, we can replace $\\mathbf{A}$ with\n",
    "\n",
    "```{math}\n",
    "  \\mathbf{A}\n",
    "  \\begin{bmatrix}\n",
    "    \\mathbf{e}_1+2\\mathbf{e}_3 & \\mathbf{e}_2 & \\mathbf{e}_3 & \\mathbf{e}_4 & \\mathbf{e}_5\n",
    "  \\end{bmatrix}.\n",
    "```\n",
    "\n",
    "```{index} ! Julia; +=\n",
    "```\n",
    "\n",
    "The Julia equivalent is\n",
    "\n",
    "```julia\n",
    "A[:,1] += 2A[:,3]\n",
    "```\n",
    "\n",
    "The `+=` operator means to increment the item on the left-hand side. There are similar interpretations for `-=` and `*=`.\n",
    "````\n",
    "\n",
    "## Exercises\n",
    "\n",
    "1. ✍ Suppose \n",
    "   \n",
    "    $$\n",
    "    \\mathbf{C} =\n",
    "    \\begin{bmatrix}\n",
    "      \\mathbf{I} & \\mathbf{A} \\\\ -\\mathbf{I} & \\mathbf{B}\n",
    "    \\end{bmatrix}.\n",
    "    $$ \n",
    "    \n",
    "    Using block notation, find $\\mathbf{C}^2$ and $\\mathbf{C}^3$.\n",
    "\n",
    "2. ⌨  Let\n",
    "\n",
    "    ```{math}\n",
    "    \\mathbf{A} =\n",
    "    \\begin{bmatrix}\n",
    "      2 & 1 & 1 & 0 \\\\ 0 & -1 & 4 & 1 \\\\ 2 & 2 & 0 & -2 \\\\ 1 & 3 & -1\n",
    "      & 5\n",
    "    \\end{bmatrix},\n",
    "    \\quad\n",
    "    \\mathbf{B} =\n",
    "    \\begin{bmatrix}\n",
    "      3 & -1 & 0 & 2 \\\\ 7 & 1 & 0 & 2\n",
    "    \\end{bmatrix},\n",
    "    ```\n",
    "\n",
    "    ```{math}\n",
    "    \\mathbf{u} =\n",
    "    \\begin{bmatrix}\n",
    "      2 \\\\ -1 \\\\ 3 \\\\ 1\n",
    "    \\end{bmatrix},\n",
    "    \\quad\n",
    "    \\mathbf{v} =\n",
    "    \\begin{bmatrix}\n",
    "      \\pi \\\\ e\n",
    "    \\end{bmatrix}.\n",
    "    ```\n",
    "\n",
    "    (Do not round off the values in $\\mathbf{v}$—find them using native Julia commands.) For each expression below, use Julia to find the result, or explain why the result does not exist.\n",
    "\n",
    "    **(a)** $\\mathbf{A}\\mathbf{B},\\quad$\n",
    "    **(b)** $\\mathbf{B} \\mathbf{A},\\quad$\n",
    "    **(c)** $\\mathbf{v}^T \\mathbf{B},\\quad$\n",
    "    **(d)** $\\mathbf{B} \\mathbf{u},\\quad$\n",
    "    **(e)** $\\bigl[ \\, \\mathbf{u}\\:\\: \\mathbf{A}\\mathbf{u} \\:\\: \\mathbf{A}^2 \\mathbf{u} \\:\\: \\mathbf{A}^3 \\mathbf{u} \\bigr]$.\n",
    "\n",
    "3. ⌨  Let\n",
    "  \n",
    "    ```{math}\n",
    "    \\mathbf{u} =\n",
    "    \\begin{bmatrix}\n",
    "      1\\\\3\\\\5\\\\7\\\\9\\\\11\n",
    "    \\end{bmatrix}, \\qquad\n",
    "    \\mathbf{v} =\n",
    "    \\begin{bmatrix}\n",
    "      -60 \\\\ -50 \\\\ -40 \\\\ -30 \\\\ -20 \\\\ -10\n",
    "    \\end{bmatrix}.\n",
    "    ```\n",
    "\n",
    "    Find the inner products $\\mathbf{u}^T\\mathbf{v}$ and $\\mathbf{v}^T\\mathbf{u}$, and the outer products $\\mathbf{u}\\mathbf{v}^T$ and $\\mathbf{v}\\mathbf{u}^T$.\n",
    "\n",
    "4. ⌨ In Julia, give a demonstration of the identity $(\\mathbf{A}\\mathbf{B})^T=\\mathbf{B}^T\\mathbf{A}^T$ for some arbitrarily chosen $3\\times 4$ matrix $\\mathbf{A}$ and $4\\times 2$ matrix $\\mathbf{B}$.\n",
    "\n",
    "   (problem-inverseprod)=\n",
    "5. ✍ Prove that if $\\mathbf{A}$ and $\\mathbf{B}$ are invertible, then $(\\mathbf{A}\\mathbf{B})^{-1}=\\mathbf{B}^{-1}\\mathbf{A}^{-1}$. (By producing the inverse, it follows that $\\mathbf{A}\\mathbf{B}$ is invertible as well.)\n",
    "\n",
    "6. ✍ Suppose $\\mathbf{B}$ is an arbitrary $4\\times 3$ matrix. In each part below a matrix $\\mathbf{A}$ is described in terms of $\\mathbf{B}$. Express $\\mathbf{A}$ as a product of $\\mathbf{B}$ with one or more other matrices.\n",
    "  \n",
    "    **(a)** $\\mathbf{A}\\in\\mathbb{R}^{4 \\times 1}$ is the result of adding the first column of $\\mathbf{B}$ to $-2$ times the last column of $\\mathbf{B}$.\n",
    "\n",
    "    **(b)** The rows of $\\mathbf{A}\\in\\mathbb{R}^{4 \\times 3}$ are the rows of $\\mathbf{B}$ in order 4,3,2,1.\n",
    "\n",
    "    **(c)** The first column of $\\mathbf{A}\\in\\mathbb{R}^{4 \\times 3}$ is $1$ times the first column of $\\mathbf{B}$, the second column of $\\mathbf{A}$ is $2$ times the second column of $\\mathbf{B}$,\n",
    "    and the third column of $\\mathbf{A}$ is $3$ times the third column of $\\mathbf{B}$.\n",
    "\n",
    "    **(d)** $A$ is the scalar sum of all elements of $\\mathbf{B}$.\n",
    "  \n",
    "7.  **(a)** ✍ Prove that for real vectors $\\mathbf{v}$ and $\\mathbf{w}$ of the same length, the inner products $\\mathbf{v}^T\\mathbf{w}$ and $\\mathbf{w}^T\\mathbf{v}$ are equal.\n",
    "\n",
    "    **(b)** ✍ Prove true, or give a counterexample for, the equivalent statement about outer products, $\\mathbf{v}\\mathbf{w}^T$ and $\\mathbf{w}\\mathbf{v}^T$."
   ]
  }
 ],
 "metadata": {
  "jupytext": {
   "cell_metadata_filter": "-all",
   "formats": "md:myst",
   "text_representation": {
    "extension": ".md",
    "format_name": "myst",
    "format_version": 0.13,
    "jupytext_version": "1.10.3"
   }
  },
  "kernelspec": {
   "display_name": "Julia 1.6.1",
   "language": "julia",
   "name": "julia-fast"
  },
  "language_info": {
   "file_extension": ".jl",
   "mimetype": "application/julia",
   "name": "julia",
   "version": "1.6.1"
  },
  "source_map": [
   15,
   18,
   132,
   137,
   139,
   163,
   166,
   172,
   176,
   178,
   182,
   184,
   191,
   193,
   197,
   199,
   206,
   210,
   212,
   216,
   218,
   246,
   250,
   252,
   256,
   258,
   265,
   267,
   295,
   299,
   301,
   325,
   327,
   331,
   333,
   337,
   339,
   343,
   345,
   352,
   356,
   358,
   383,
   385,
   389,
   391
  ]
 },
 "nbformat": 4,
 "nbformat_minor": 5
}